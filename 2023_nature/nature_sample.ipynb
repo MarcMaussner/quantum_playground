{
 "cells": [
  {
   "cell_type": "code",
   "execution_count": 1,
   "id": "e67a6822",
   "metadata": {},
   "outputs": [
    {
     "name": "stdout",
     "output_type": "stream",
     "text": [
      "converged SCF energy = -7.86186476980865\n"
     ]
    },
    {
     "name": "stderr",
     "output_type": "stream",
     "text": [
      "/home/marc/.local/lib/python3.10/site-packages/qiskit_nature/deprecation.py:297: PauliSumOpDeprecationWarning: PauliSumOp is deprecated as of version 0.6.0 and support for them will be removed no sooner than 3 months after the release. Instead, use SparsePauliOp. You can switch to SparsePauliOp immediately, by setting `qiskit_nature.settings.use_pauli_sum_op` to `False`.\n",
      "  return func(*args, **kwargs)\n"
     ]
    },
    {
     "name": "stdout",
     "output_type": "stream",
     "text": [
      "CASCI E = -7.86212880516646  E(CI) = -1.05811650686441\n"
     ]
    },
    {
     "data": {
      "text/plain": [
       "<pyscf.mcscf.casci.CASCI at 0x7f48f9a6cf10>"
      ]
     },
     "execution_count": 1,
     "metadata": {},
     "output_type": "execute_result"
    }
   ],
   "source": [
    "from pyscf import gto, scf, mcscf\n",
    "\n",
    "import numpy as np\n",
    "\n",
    "from qiskit.algorithms.minimum_eigensolvers import VQE\n",
    "from qiskit.algorithms.optimizers import SLSQP\n",
    "from qiskit.primitives import Estimator\n",
    "from qiskit_nature.second_q.algorithms import GroundStateEigensolver\n",
    "from qiskit_nature.second_q.circuit.library import HartreeFock, UCCSD\n",
    "from qiskit_nature.second_q.mappers import ParityMapper\n",
    "\n",
    "from qiskit_nature_pyscf import QiskitSolver\n",
    "\n",
    "mol = gto.M(atom=\"Li 0 0 0; H 0 0 1.6\", basis=\"sto-3g\")\n",
    "\n",
    "h_f = scf.RHF(mol).run()\n",
    "\n",
    "norb = 2\n",
    "nalpha, nbeta = 1, 1\n",
    "nelec = nalpha + nbeta\n",
    "\n",
    "cas = mcscf.CASCI(h_f, norb, nelec)\n",
    "\n",
    "mapper = ParityMapper(num_particles=(nalpha, nbeta))\n",
    "\n",
    "ansatz = UCCSD(\n",
    "    norb,\n",
    "    (nalpha, nbeta),\n",
    "    mapper,\n",
    "    initial_state=HartreeFock(\n",
    "        norb,\n",
    "        (nalpha, nbeta),\n",
    "        mapper,\n",
    "    ),\n",
    ")\n",
    "\n",
    "vqe = VQE(Estimator(), ansatz, SLSQP())\n",
    "vqe.initial_point = np.zeros(ansatz.num_parameters)\n",
    "\n",
    "algorithm = GroundStateEigensolver(mapper, vqe)\n",
    "\n",
    "cas.fcisolver = QiskitSolver(algorithm)\n",
    "\n",
    "cas.run()"
   ]
  },
  {
   "cell_type": "code",
   "execution_count": null,
   "id": "d77de9a5",
   "metadata": {},
   "outputs": [],
   "source": []
  }
 ],
 "metadata": {
  "kernelspec": {
   "display_name": "Python 3 (ipykernel)",
   "language": "python",
   "name": "python3"
  },
  "language_info": {
   "codemirror_mode": {
    "name": "ipython",
    "version": 3
   },
   "file_extension": ".py",
   "mimetype": "text/x-python",
   "name": "python",
   "nbconvert_exporter": "python",
   "pygments_lexer": "ipython3",
   "version": "3.10.9"
  }
 },
 "nbformat": 4,
 "nbformat_minor": 5
}
