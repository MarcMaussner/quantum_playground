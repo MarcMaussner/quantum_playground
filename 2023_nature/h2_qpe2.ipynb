{
 "cells": [
  {
   "cell_type": "code",
   "execution_count": 14,
   "id": "f3eecf32",
   "metadata": {},
   "outputs": [],
   "source": [
    "import numpy as np\n",
    "from qiskit import QuantumCircuit #, execute\n",
    "from qiskit_algorithms.minimum_eigensolvers import VQE\n",
    "from qiskit_algorithms.optimizers import SLSQP\n",
    "from qiskit.circuit.library import PhaseEstimation, TwoLocal\n",
    "from qiskit.circuit.library import HamiltonianGate\n",
    "from qiskit.primitives import Estimator, Sampler\n",
    "from qiskit.quantum_info import SparsePauliOp\n",
    "from qiskit_aer import AerSimulator\n",
    "from qiskit.compiler import transpiler\n",
    "\n",
    "from qiskit_nature.second_q.drivers import PySCFDriver\n",
    "from qiskit_nature.second_q.mappers import JordanWignerMapper\n",
    "#from qiskit_nature.second_q.mappers import QubitConverter\n",
    "\n",
    "from qiskit_nature.second_q.circuit.library import UCCSD, HartreeFock\n",
    "#from qiskit_nature.second_q.algorithms.initial_points import HFInitialPoint"
   ]
  },
  {
   "cell_type": "code",
   "execution_count": 15,
   "id": "df6dc481",
   "metadata": {},
   "outputs": [
    {
     "name": "stdout",
     "output_type": "stream",
     "text": [
      "H 0 0 0; H 0 0 0.735\n",
      "Particles and orbitals for H2:  (1, 1)   2\n"
     ]
    }
   ],
   "source": [
    "# create hamiltonian for h2\n",
    "# create initial problem to determine parameters for ansatz\n",
    "dist = 0.735\n",
    "\n",
    "atom_str = \"H 0 0 0; H 0 0 \" + str(dist)\n",
    "\n",
    "print(atom_str)\n",
    "driver = PySCFDriver(atom=atom_str, basis=\"sto-3g\")\n",
    "problem = driver.run()\n",
    "\n",
    "num_spatial_orbitals = problem.num_spatial_orbitals\n",
    "num_particles = problem.num_particles\n",
    "\n",
    "print(\"Particles and orbitals for H2: \", num_particles, \" \", num_spatial_orbitals)\n",
    "\n",
    "H = problem.hamiltonian"
   ]
  },
  {
   "cell_type": "code",
   "execution_count": 16,
   "id": "fcd63ab4",
   "metadata": {},
   "outputs": [
    {
     "name": "stdout",
     "output_type": "stream",
     "text": [
      "-1.8369674588961744\n"
     ]
    }
   ],
   "source": [
    "estimator = Estimator()\n",
    "optimizer = SLSQP()\n",
    "ansatz = TwoLocal(rotation_blocks=['ry', 'rz'], entanglement_blocks='cz')\n",
    "# create mapper\n",
    "mapper = JordanWignerMapper()\n",
    "\n",
    "fermionic_op = problem.hamiltonian.second_q_op()  # Get fermionic_op\n",
    "    \n",
    "qubit_op = mapper.map(fermionic_op)\n",
    "\n",
    "vqe = VQE(estimator, ansatz, optimizer)\n",
    "\n",
    "# set initialpoint to Harttreefock for problem\n",
    "#initial_point = HFInitialPoint()\n",
    "#initial_point.ansatz = ansatz\n",
    "#initial_point.problem = problem\n",
    "#vqe.initial_point = initial_point.to_numpy_array()\n",
    "\n",
    "result = vqe.compute_minimum_eigenvalue(operator=qubit_op)\n",
    "print(result.eigenvalue)"
   ]
  },
  {
   "cell_type": "code",
   "execution_count": 17,
   "id": "3f205bae",
   "metadata": {},
   "outputs": [
    {
     "name": "stdout",
     "output_type": "stream",
     "text": [
      "SparsePauliOp(['IIII', 'IIIZ', 'IIZI', 'IZII', 'ZIII', 'IIZZ', 'IZIZ', 'ZIIZ', 'YYYY', 'XXYY', 'YYXX', 'XXXX', 'IZZI', 'ZIZI', 'ZZII'],\n",
      "              coeffs=[-0.81054798+0.j,  0.17218393+0.j, -0.22575349+0.j,  0.17218393+0.j,\n",
      " -0.22575349+0.j,  0.12091263+0.j,  0.16892754+0.j,  0.16614543+0.j,\n",
      "  0.0452328 +0.j,  0.0452328 +0.j,  0.0452328 +0.j,  0.0452328 +0.j,\n",
      "  0.16614543+0.j,  0.17464343+0.j,  0.12091263+0.j])\n"
     ]
    }
   ],
   "source": [
    "print(qubit_op)"
   ]
  },
  {
   "cell_type": "code",
   "execution_count": 18,
   "id": "a9d0c253",
   "metadata": {},
   "outputs": [
    {
     "name": "stdout",
     "output_type": "stream",
     "text": [
      "[-2.24911253e-01+0.j -1.85727503e+00+0.j -8.82722150e-01+0.j\n",
      " -1.24458455e+00+0.j  5.55111512e-16+0.j -1.25633907e+00+0.j\n",
      " -4.71896007e-01+0.j -1.24458455e+00+0.j -1.25633907e+00+0.j\n",
      " -1.16063174e+00+0.j -4.71896007e-01+0.j -3.53325104e-01+0.j\n",
      " -1.24458455e+00+0.j -1.16063174e+00+0.j -3.53325104e-01+0.j\n",
      "  2.14278238e-01+0.j]\n"
     ]
    }
   ],
   "source": [
    "Hmat = qubit_op.to_matrix()\n",
    "\n",
    "eig = np.linalg.eigvals(Hmat)\n",
    "print(eig)"
   ]
  },
  {
   "cell_type": "code",
   "execution_count": 25,
   "id": "b56d978b",
   "metadata": {},
   "outputs": [
    {
     "name": "stdout",
     "output_type": "stream",
     "text": [
      "(-1.857275030202379+0j)\n"
     ]
    }
   ],
   "source": [
    "print(np.min(eig))"
   ]
  },
  {
   "cell_type": "code",
   "execution_count": 32,
   "id": "96a7144b",
   "metadata": {},
   "outputs": [
    {
     "name": "stdout",
     "output_type": "stream",
     "text": [
      "          ┌───┐                                                          »\n",
      " q_0: ────┤ H ├────────────■─────────────────────────────────────────────»\n",
      "          ├───┤            │                                             »\n",
      " q_1: ────┤ H ├────────────┼─────────────────■───────────────────────────»\n",
      "          ├───┤            │                 │                           »\n",
      " q_2: ────┤ H ├────────────┼─────────────────┼─────────────────■─────────»\n",
      "          ├───┤            │                 │                 │         »\n",
      " q_3: ────┤ H ├────────────┼─────────────────┼─────────────────┼─────────»\n",
      "          ├───┤            │                 │                 │         »\n",
      " q_4: ────┤ H ├────────────┼─────────────────┼─────────────────┼─────────»\n",
      "          ├───┤            │                 │                 │         »\n",
      " q_5: ────┤ H ├────────────┼─────────────────┼─────────────────┼─────────»\n",
      "          ├───┤            │                 │                 │         »\n",
      " q_6: ────┤ H ├────────────┼─────────────────┼─────────────────┼─────────»\n",
      "          ├───┤            │                 │                 │         »\n",
      " q_7: ────┤ H ├────────────┼─────────────────┼─────────────────┼─────────»\n",
      "          ├───┤            │                 │                 │         »\n",
      " q_8: ────┤ H ├────────────┼─────────────────┼─────────────────┼─────────»\n",
      "          ├───┤            │                 │                 │         »\n",
      " q_9: ────┤ H ├────────────┼─────────────────┼─────────────────┼─────────»\n",
      "      ┌───┴───┴───┐┌───────┴────────┐┌───────┴────────┐┌───────┴────────┐»\n",
      "q_10: ┤ U3(π,0,π) ├┤0               ├┤0               ├┤0               ├»\n",
      "      ├───────────┤│                ││                ││                │»\n",
      "q_11: ┤ U3(π,0,π) ├┤1               ├┤1               ├┤1               ├»\n",
      "      └───────────┘│  hamiltonian^1 ││  hamiltonian^2 ││  hamiltonian^4 │»\n",
      "q_12: ─────────────┤2               ├┤2               ├┤2               ├»\n",
      "                   │                ││                ││                │»\n",
      "q_13: ─────────────┤3               ├┤3               ├┤3               ├»\n",
      "                   └────────────────┘└────────────────┘└────────────────┘»\n",
      "c: 10/═══════════════════════════════════════════════════════════════════»\n",
      "                                                                         »\n",
      "«                                                              »\n",
      "« q_0: ────────────────────────────────────────────────────────»\n",
      "«                                                              »\n",
      "« q_1: ────────────────────────────────────────────────────────»\n",
      "«                                                              »\n",
      "« q_2: ────────────────────────────────────────────────────────»\n",
      "«                                                              »\n",
      "« q_3: ────────■───────────────────────────────────────────────»\n",
      "«              │                                               »\n",
      "« q_4: ────────┼──────────────────■────────────────────────────»\n",
      "«              │                  │                            »\n",
      "« q_5: ────────┼──────────────────┼──────────────────■─────────»\n",
      "«              │                  │                  │         »\n",
      "« q_6: ────────┼──────────────────┼──────────────────┼─────────»\n",
      "«              │                  │                  │         »\n",
      "« q_7: ────────┼──────────────────┼──────────────────┼─────────»\n",
      "«              │                  │                  │         »\n",
      "« q_8: ────────┼──────────────────┼──────────────────┼─────────»\n",
      "«              │                  │                  │         »\n",
      "« q_9: ────────┼──────────────────┼──────────────────┼─────────»\n",
      "«      ┌───────┴────────┐┌────────┴────────┐┌────────┴────────┐»\n",
      "«q_10: ┤0               ├┤0                ├┤0                ├»\n",
      "«      │                ││                 ││                 │»\n",
      "«q_11: ┤1               ├┤1                ├┤1                ├»\n",
      "«      │  hamiltonian^8 ││  hamiltonian^16 ││  hamiltonian^32 │»\n",
      "«q_12: ┤2               ├┤2                ├┤2                ├»\n",
      "«      │                ││                 ││                 │»\n",
      "«q_13: ┤3               ├┤3                ├┤3                ├»\n",
      "«      └────────────────┘└─────────────────┘└─────────────────┘»\n",
      "«c: 10/════════════════════════════════════════════════════════»\n",
      "«                                                              »\n",
      "«                                                                 »\n",
      "« q_0: ───────────────────────────────────────────────────────────»\n",
      "«                                                                 »\n",
      "« q_1: ───────────────────────────────────────────────────────────»\n",
      "«                                                                 »\n",
      "« q_2: ───────────────────────────────────────────────────────────»\n",
      "«                                                                 »\n",
      "« q_3: ───────────────────────────────────────────────────────────»\n",
      "«                                                                 »\n",
      "« q_4: ───────────────────────────────────────────────────────────»\n",
      "«                                                                 »\n",
      "« q_5: ───────────────────────────────────────────────────────────»\n",
      "«                                                                 »\n",
      "« q_6: ─────────■─────────────────────────────────────────────────»\n",
      "«               │                                                 »\n",
      "« q_7: ─────────┼──────────────────■──────────────────────────────»\n",
      "«               │                  │                              »\n",
      "« q_8: ─────────┼──────────────────┼───────────────────■──────────»\n",
      "«               │                  │                   │          »\n",
      "« q_9: ─────────┼──────────────────┼───────────────────┼──────────»\n",
      "«      ┌────────┴────────┐┌────────┴─────────┐┌────────┴─────────┐»\n",
      "«q_10: ┤0                ├┤0                 ├┤0                 ├»\n",
      "«      │                 ││                  ││                  │»\n",
      "«q_11: ┤1                ├┤1                 ├┤1                 ├»\n",
      "«      │  hamiltonian^64 ││  hamiltonian^128 ││  hamiltonian^256 │»\n",
      "«q_12: ┤2                ├┤2                 ├┤2                 ├»\n",
      "«      │                 ││                  ││                  │»\n",
      "«q_13: ┤3                ├┤3                 ├┤3                 ├»\n",
      "«      └─────────────────┘└──────────────────┘└──────────────────┘»\n",
      "«c: 10/═══════════════════════════════════════════════════════════»\n",
      "«                                                                 »\n",
      "«                          ┌──────────┐┌─┐                           \n",
      "« q_0: ────────────────────┤9         ├┤M├───────────────────────────\n",
      "«                          │          │└╥┘┌─┐                        \n",
      "« q_1: ────────────────────┤8         ├─╫─┤M├────────────────────────\n",
      "«                          │          │ ║ └╥┘┌─┐                     \n",
      "« q_2: ────────────────────┤7         ├─╫──╫─┤M├─────────────────────\n",
      "«                          │          │ ║  ║ └╥┘┌─┐                  \n",
      "« q_3: ────────────────────┤6         ├─╫──╫──╫─┤M├──────────────────\n",
      "«                          │          │ ║  ║  ║ └╥┘┌─┐               \n",
      "« q_4: ────────────────────┤5         ├─╫──╫──╫──╫─┤M├───────────────\n",
      "«                          │  IQFT_dg │ ║  ║  ║  ║ └╥┘┌─┐            \n",
      "« q_5: ────────────────────┤4         ├─╫──╫──╫──╫──╫─┤M├────────────\n",
      "«                          │          │ ║  ║  ║  ║  ║ └╥┘┌─┐         \n",
      "« q_6: ────────────────────┤3         ├─╫──╫──╫──╫──╫──╫─┤M├─────────\n",
      "«                          │          │ ║  ║  ║  ║  ║  ║ └╥┘┌─┐      \n",
      "« q_7: ────────────────────┤2         ├─╫──╫──╫──╫──╫──╫──╫─┤M├──────\n",
      "«                          │          │ ║  ║  ║  ║  ║  ║  ║ └╥┘┌─┐   \n",
      "« q_8: ────────────────────┤1         ├─╫──╫──╫──╫──╫──╫──╫──╫─┤M├───\n",
      "«                          │          │ ║  ║  ║  ║  ║  ║  ║  ║ └╥┘┌─┐\n",
      "« q_9: ─────────■──────────┤0         ├─╫──╫──╫──╫──╫──╫──╫──╫──╫─┤M├\n",
      "«      ┌────────┴─────────┐└──────────┘ ║  ║  ║  ║  ║  ║  ║  ║  ║ └╥┘\n",
      "«q_10: ┤0                 ├─────────────╫──╫──╫──╫──╫──╫──╫──╫──╫──╫─\n",
      "«      │                  │             ║  ║  ║  ║  ║  ║  ║  ║  ║  ║ \n",
      "«q_11: ┤1                 ├─────────────╫──╫──╫──╫──╫──╫──╫──╫──╫──╫─\n",
      "«      │  hamiltonian^512 │             ║  ║  ║  ║  ║  ║  ║  ║  ║  ║ \n",
      "«q_12: ┤2                 ├─────────────╫──╫──╫──╫──╫──╫──╫──╫──╫──╫─\n",
      "«      │                  │             ║  ║  ║  ║  ║  ║  ║  ║  ║  ║ \n",
      "«q_13: ┤3                 ├─────────────╫──╫──╫──╫──╫──╫──╫──╫──╫──╫─\n",
      "«      └──────────────────┘             ║  ║  ║  ║  ║  ║  ║  ║  ║  ║ \n",
      "«c: 10/═════════════════════════════════╩══╩══╩══╩══╩══╩══╩══╩══╩══╩═\n",
      "«                                       0  1  2  3  4  5  6  7  8  9 \n"
     ]
    }
   ],
   "source": [
    "n_qpe_qbits = 10\n",
    "\n",
    "U = HamiltonianGate(Hmat, 1, label='H')\n",
    "\n",
    "# Obtain a solution via QPE\n",
    "total_qbits = U.num_qubits + n_qpe_qbits\n",
    "measure_circ = QuantumCircuit(total_qbits, n_qpe_qbits)\n",
    "# set initial state to HF_State of H2: [1, 1, 0, 0]\n",
    "measure_circ.x(n_qpe_qbits)\n",
    "measure_circ.x(n_qpe_qbits+1)\n",
    "qpe = PhaseEstimation(n_qpe_qbits, U)\n",
    "\n",
    "measure_circ = measure_circ.compose(qpe)\n",
    "measure_circ.measure(range(n_qpe_qbits), range(n_qpe_qbits))\n",
    "print(measure_circ.decompose())\n"
   ]
  },
  {
   "cell_type": "code",
   "execution_count": 33,
   "id": "94d9c33e",
   "metadata": {},
   "outputs": [],
   "source": [
    "from qiskit_aer.primitives import Sampler as AerSampler # import change!\n",
    " \n",
    "sampler = AerSampler(run_options= {\"method\": \"statevector\"})\n",
    " \n",
    "backend = AerSimulator(method='statevector', shots=2048)\n",
    "job = sampler.run(measure_circ)"
   ]
  },
  {
   "cell_type": "code",
   "execution_count": 34,
   "id": "f16b4442",
   "metadata": {},
   "outputs": [],
   "source": [
    "result = job.result()"
   ]
  },
  {
   "cell_type": "code",
   "execution_count": 35,
   "id": "e6702fa7",
   "metadata": {},
   "outputs": [
    {
     "name": "stdout",
     "output_type": "stream",
     "text": [
      "[{44: 0.001953125, 500: 0.0009765625, 588: 0.005859375, 652: 0.0009765625, 460: 0.00390625, 908: 0.0009765625, 204: 0.01953125, 76: 0.0029296875, 716: 0.00390625, 396: 0.0009765625, 332: 0.02734375, 844: 0.9287109375, 812: 0.001953125}]\n"
     ]
    }
   ],
   "source": [
    "print(result.quasi_dists)"
   ]
  },
  {
   "cell_type": "code",
   "execution_count": 36,
   "id": "714af00a",
   "metadata": {},
   "outputs": [
    {
     "name": "stdout",
     "output_type": "stream",
     "text": [
      "MAX count: (844, 0.9287109375)\n",
      "Theta value: 1.857421875\n",
      "QPE-approximated H-eigenvalue: (0.624859488142386-0.7807372285720948j)\n"
     ]
    }
   ],
   "source": [
    "tmp_count = max(result.quasi_dists[0].items(), key=lambda x: x[1])\n",
    "print(f'MAX count: {tmp_count}')\n",
    "max_count = tmp_count[1]*2048\n",
    "\n",
    "\n",
    "theta = max_count / 2**n_qpe_qbits\n",
    "print(f'Theta value: {theta}')\n",
    "eigenvalue = np.exp(2*1j*np.pi * theta)\n",
    "print(f'QPE-approximated H-eigenvalue: {eigenvalue}')"
   ]
  },
  {
   "cell_type": "code",
   "execution_count": null,
   "id": "b985e979",
   "metadata": {},
   "outputs": [],
   "source": []
  }
 ],
 "metadata": {
  "kernelspec": {
   "display_name": "Python 3 (ipykernel)",
   "language": "python",
   "name": "python3"
  },
  "language_info": {
   "codemirror_mode": {
    "name": "ipython",
    "version": 3
   },
   "file_extension": ".py",
   "mimetype": "text/x-python",
   "name": "python",
   "nbconvert_exporter": "python",
   "pygments_lexer": "ipython3",
   "version": "3.10.9"
  }
 },
 "nbformat": 4,
 "nbformat_minor": 5
}
