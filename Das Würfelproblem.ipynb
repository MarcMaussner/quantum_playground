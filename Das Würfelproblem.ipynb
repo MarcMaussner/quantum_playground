{
 "cells": [
  {
   "cell_type": "code",
   "execution_count": 3,
   "metadata": {
    "id": "NbBfv9ctJ1qK",
    "slideshow": {
     "slide_type": "skip"
    }
   },
   "outputs": [
    {
     "name": "stdout",
     "output_type": "stream",
     "text": [
      "Requirement already satisfied: dimod in c:\\users\\maussner\\.conda\\envs\\qiskit_env\\lib\\site-packages (0.11.6)\n",
      "Requirement already satisfied: numpy<2.0.0,>=1.17.3 in c:\\users\\maussner\\.conda\\envs\\qiskit_env\\lib\\site-packages (from dimod) (1.23.3)\n"
     ]
    },
    {
     "name": "stderr",
     "output_type": "stream",
     "text": [
      "WARNING: Ignoring invalid distribution -iskit-aer (c:\\users\\maussner\\.conda\\envs\\qiskit_env\\lib\\site-packages)\n",
      "WARNING: Ignoring invalid distribution -iskit-aer (c:\\users\\maussner\\.conda\\envs\\qiskit_env\\lib\\site-packages)\n",
      "WARNING: Ignoring invalid distribution -iskit-aer (c:\\users\\maussner\\.conda\\envs\\qiskit_env\\lib\\site-packages)\n",
      "WARNING: Ignoring invalid distribution -iskit-aer (c:\\users\\maussner\\.conda\\envs\\qiskit_env\\lib\\site-packages)\n",
      "WARNING: Ignoring invalid distribution -iskit-aer (c:\\users\\maussner\\.conda\\envs\\qiskit_env\\lib\\site-packages)\n",
      "WARNING: Ignoring invalid distribution -iskit-aer (c:\\users\\maussner\\.conda\\envs\\qiskit_env\\lib\\site-packages)\n"
     ]
    },
    {
     "name": "stdout",
     "output_type": "stream",
     "text": [
      "Requirement already satisfied: cplex in c:\\users\\maussner\\.conda\\envs\\qiskit_env\\lib\\site-packages (22.1.0.0)\n"
     ]
    },
    {
     "name": "stderr",
     "output_type": "stream",
     "text": [
      "WARNING: Ignoring invalid distribution -iskit-aer (c:\\users\\maussner\\.conda\\envs\\qiskit_env\\lib\\site-packages)\n",
      "WARNING: Ignoring invalid distribution -iskit-aer (c:\\users\\maussner\\.conda\\envs\\qiskit_env\\lib\\site-packages)\n",
      "WARNING: Ignoring invalid distribution -iskit-aer (c:\\users\\maussner\\.conda\\envs\\qiskit_env\\lib\\site-packages)\n",
      "WARNING: Ignoring invalid distribution -iskit-aer (c:\\users\\maussner\\.conda\\envs\\qiskit_env\\lib\\site-packages)\n",
      "WARNING: Ignoring invalid distribution -iskit-aer (c:\\users\\maussner\\.conda\\envs\\qiskit_env\\lib\\site-packages)\n",
      "WARNING: Ignoring invalid distribution -iskit-aer (c:\\users\\maussner\\.conda\\envs\\qiskit_env\\lib\\site-packages)\n"
     ]
    }
   ],
   "source": [
    "# Falls noch nicht installiert...\n",
    "!pip install dimod\n",
    "!pip install cplex\n",
    "\n",
    "\n",
    "## Allgemeine Bibliotheken\n",
    "import numpy as np\n",
    "import pandas as pd\n",
    "import matplotlib.pyplot as plt\n",
    "\n",
    "# Für Brute-Force Lösung\n",
    "import dimod\n",
    "\n",
    "# Nutze IBM's CPLEX für die klassische Optimierun\n",
    "import docplex.mp\n",
    "import cplex\n",
    "from docplex.mp.advmodel import AdvModel as Model  \n",
    "\n",
    "# Bibliotheken für Quantenalgorithmen mit Qiskit\n",
    "from qiskit.algorithms import QAOA, NumPyMinimumEigensolver\n",
    "from qiskit_optimization.algorithms import MinimumEigenOptimizer\n",
    "\n",
    "from qiskit.algorithms.optimizers import COBYLA\n",
    "\n",
    "from qiskit import BasicAer, Aer, execute# QuantumCircuit\n",
    "\n",
    "from qiskit.utils import algorithm_globals, QuantumInstance\n",
    "\n",
    "\n",
    "from qiskit_optimization.translators import from_docplex_mp\n",
    "from qiskit_optimization.converters import (\n",
    "    InequalityToEquality,     # converts inequality constraints to equality constraints by adding slack variables\n",
    "    LinearEqualityToPenalty,  # converts linear equality constraints to quadratic penalty terms \n",
    "    IntegerToBinary,          # converts integer variables to binary variables\n",
    "    QuadraticProgramToQubo)    # combines the previous three converters\n"
   ]
  },
  {
   "cell_type": "markdown",
   "metadata": {
    "slideshow": {
     "slide_type": "slide"
    }
   },
   "source": [
    "# Das Würfelproblem\n",
    "\n",
    "* Würfel besteht aus Pappe (1) oder Papier (0). Mehrerlös für einen Pappwürfel ggü einem Papierwürfel: 50. \n",
    "* Die Kanten des Würfels können verstärkt werden (1) oder nicht (0). Erlös für Kantenverstärkung: 10\n",
    "* Der Würfel kann mit Schaumstoff gefüllt werden (1) oder nicht (0). Erlös für Füllung: 20\n",
    "* Der Würfel wird bemalt (1) oder nicht (0). Erlös für Bemalung: 30\n",
    "\n",
    "\n",
    "\n",
    "Dabei ist folgendes zu beachten:\n",
    "\n",
    "* Wenn der Würfel gefüllt und verstärkt wird, dann kostet das -30.\n",
    "* Wenn der Würfel aus Pappe ist und verstärkt wird dann kostet das -30\n",
    "* Wenn der Würfel bemalt wird und gefüllt ist, dann kann er für 40 mehr verkauft werden\n",
    "\n",
    "Welcher Würfel soll produziert werden, damit der Erlös maximiert werden kann?"
   ]
  },
  {
   "cell_type": "markdown",
   "metadata": {
    "slideshow": {
     "slide_type": "slide"
    }
   },
   "source": [
    "#### Aufgabe:\n",
    "\n",
    "Versuche dieses Problem \"von Hand\" (=Intuition, Taschenrechner, Excel etc.) zu lösen. "
   ]
  },
  {
   "cell_type": "markdown",
   "metadata": {
    "slideshow": {
     "slide_type": "slide"
    }
   },
   "source": [
    "#### Lessons Learned:\n",
    "\n",
    "Für \"kleine\" Probleme ist eine Lösung \"von Hand\" machbar; für \"große\" Probleme nicht ... :-("
   ]
  },
  {
   "cell_type": "markdown",
   "metadata": {
    "slideshow": {
     "slide_type": "slide"
    }
   },
   "source": [
    "## Formulierung als mathematisches Optinierungsproblem\n",
    "\n",
    "mit einer bestimmten Struktur ..."
   ]
  },
  {
   "cell_type": "markdown",
   "metadata": {
    "slideshow": {
     "slide_type": "slide"
    }
   },
   "source": [
    "Verpacke die vorhandenden Information in mathematische Variablen\n",
    "\n",
    "1. Vektor b = Erlöse aus dem Würfelverkauf\n",
    "2. Matrix C = Korrekturen der Erlöse, die immer von 2 (!) Komponenten abhängen\n"
   ]
  },
  {
   "cell_type": "code",
   "execution_count": 4,
   "metadata": {
    "id": "y9eMX8MrqEeT",
    "slideshow": {
     "slide_type": "slide"
    }
   },
   "outputs": [
    {
     "name": "stdout",
     "output_type": "stream",
     "text": [
      "b= [50 10 20 30]\n",
      "\n",
      "C= [[  0 -30   0   0]\n",
      " [-30   0 -30   0]\n",
      " [  0 -30   0  40]\n",
      " [  0   0  40   0]]\n"
     ]
    }
   ],
   "source": [
    "# Papier/Pappe, Kanten, Füllen, Bemalen\n",
    "\n",
    "b = np.array([50,10,20,30])\n",
    "\n",
    "C=np.array([[0,-30,0,0],[-30,0,-30,0],[0,-30,0,40],[0,0,40,0]])\n",
    "\n",
    "print(\"b=\",b)\n",
    "print()\n",
    "print(\"C=\",C)"
   ]
  },
  {
   "cell_type": "markdown",
   "metadata": {
    "slideshow": {
     "slide_type": "slide"
    }
   },
   "source": [
    "Die Aufgabe besteht dann darin, die Größe $H$ zu maximieren:\n",
    "\n",
    "\\begin{align} H=\\frac{1}{2}\\mathbf{a}^T\\mathbf{C}\\mathbf{a} + \\mathbf{b}^T\\mathbf{a}\\end{align}\n"
   ]
  },
  {
   "cell_type": "markdown",
   "metadata": {
    "id": "UY4Zikr6sazi",
    "slideshow": {
     "slide_type": "slide"
    }
   },
   "source": [
    "Hierbei handelt es sich um ein \n",
    "\n",
    "**Q**uadratic **U**nconstrained **B**inary **O**ptimization\n",
    "\n",
    "Problem:\n",
    "\n",
    "\\begin{align} H=\\sum_{i<j} C_{ij}a_i a_j + \\sum_{i} b_i a_i \\text{ mit } \\forall a_i \\in {0,1} \\text{ und } C_{ij} \\in \\mathbb{R},b_i \\in \\mathbb{R} \\end{align}"
   ]
  },
  {
   "cell_type": "markdown",
   "metadata": {
    "slideshow": {
     "slide_type": "slide"
    }
   },
   "source": [
    "Obwohl an dieser Stelle ohne weitere Relevanz, wollen wir im Vorgriff auf das Folgende lieber ein Minimierung-Problem anstatt einem Maximierungsproblem lösen. \n",
    "\n",
    "Dies ist z.B. über \n",
    "\n",
    "$ b \\rightarrow -b $ und  $ C \\rightarrow -C $\n",
    "\n",
    "zu erreichen."
   ]
  },
  {
   "cell_type": "markdown",
   "metadata": {
    "slideshow": {
     "slide_type": "slide"
    }
   },
   "source": [
    "Die naheliegende - und vermutlich einfachste - Lösung des Problems besteht darin, alle 16 Kombinationen von $ [0,1]^4$ durchzuprobieren, $H$ auszurechnen und dann die Kombination mit dem geringsten Wert von $H$ als Lösung zu nehmen.\n",
    "\n",
    "Dies könnte man per Hand programmieren oder man verwendet den \"ExactSolver\" aus dem Python-Paket dimod: "
   ]
  },
  {
   "cell_type": "code",
   "execution_count": 5,
   "metadata": {
    "colab": {
     "base_uri": "https://localhost:8080/",
     "height": 595
    },
    "id": "1jGTDDIg1bwr",
    "outputId": "8bcfffda-f822-47ce-9f4b-aab48dcb3614",
    "slideshow": {
     "slide_type": "slide"
    }
   },
   "outputs": [
    {
     "name": "stdout",
     "output_type": "stream",
     "text": [
      "   Bemalen Füllen Kanten Pappe energy num_oc.\n",
      "9        1      1      0     1 -140.0       1\n",
      "8        1      1      0     0  -90.0       1\n",
      "10       1      1      1     1  -90.0       1\n",
      "14       1      0      0     1  -80.0       1\n",
      "6        0      1      0     1  -70.0       1\n",
      "11       1      1      1     0  -70.0       1\n",
      "13       1      0      1     1  -60.0       1\n",
      "1        0      0      0     1  -50.0       1\n",
      "12       1      0      1     0  -40.0       1\n",
      "2        0      0      1     1  -30.0       1\n",
      "15       1      0      0     0  -30.0       1\n",
      "5        0      1      1     1  -20.0       1\n",
      "7        0      1      0     0  -20.0       1\n",
      "3        0      0      1     0  -10.0       1\n",
      "0        0      0      0     0    0.0       1\n",
      "4        0      1      1     0    0.0       1\n",
      "['BINARY', 16 rows, 16 samples, 4 variables]\n"
     ]
    },
    {
     "data": {
      "text/plain": [
       "<AxesSubplot:>"
      ]
     },
     "execution_count": 5,
     "metadata": {},
     "output_type": "execute_result"
    },
    {
     "data": {
      "image/png": "[encoded data removed]",
      "text/plain": [
       "<Figure size 640x480 with 1 Axes>"
      ]
     },
     "metadata": {},
     "output_type": "display_data"
    }
   ],
   "source": [
    "bqm=dimod.BinaryQuadraticModel(-b,-C/2,dimod.BINARY)\n",
    "bqm.relabel_variables({0:\"Pappe\",1:\"Kanten\",2:\"Füllen\",3:\"Bemalen\"})\n",
    "\n",
    "solver = dimod.ExactSolver()\n",
    "solutions = solver.sample(bqm)\n",
    "\n",
    "print(solutions)\n",
    "\n",
    "erloes =-solutions.to_pandas_dataframe()\n",
    "erloes=erloes.rename(columns={'energy': 'erloes'})\n",
    "erloes.plot(y=\"erloes\")"
   ]
  },
  {
   "cell_type": "markdown",
   "metadata": {
    "id": "3H_hdry4tPdY",
    "slideshow": {
     "slide_type": "slide"
    }
   },
   "source": [
    "## Möglichkeit von Zwangsbedingungen/Einschränkungen (=\"Constraints\")\n",
    "\n",
    "Wie können nun zusätzliche Bedingungen eingebaut werden?\n",
    "\n",
    "Zum Beispiel könnte es sein, dass aus Produktionsgründen ein Würfelimmer genau zwei \"Features\" haben soll: z.B. Pappe & bemalt oder bemalt & Kanten verstärkt etc.\n",
    "\n",
    "In unserer mathematischen Formulierung bedeutet dies:\n",
    "\n",
    "$\\sum_i a_i = 2$\n",
    "\n",
    "oder \n",
    "\n",
    "$\\sum_i a_i -2 = 0$\n",
    "\n",
    "\n",
    "Diese Zwangsbedingung kann man nun in unsere Formulierung des Optimierungsproblems als Strafterm einbauen:\n",
    "\n",
    "Strafterm oder \"penalty term\": $P= W \\cdot(\\sum_i a_i -2)^2$\n",
    "\n",
    "Hierbei ist W ist freier Parameter, der bestimmt, wie stark der Strafterm wirkt: Is W klein, dann werden Lösungen, welche die Zwangsbedingung nicht erfüllen nicht \"genug bestraft\"; ist W zu groß, dann dominiert der Strafterm ggü dem eigentlichen Problem $ \\rightarrow$ finde passendes W durch ausprobieren.probieren."
   ]
  },
  {
   "cell_type": "markdown",
   "metadata": {
    "slideshow": {
     "slide_type": "slide"
    }
   },
   "source": [
    "Unser Optimierungeproblem lautet also:\n",
    "\n",
    "\\begin{align} H=\\sum_{i<j} C_{ij}a_i a_j + \\sum_{i} b_i a_i + W \\cdot(\\sum_i a_i -2)^2\n",
    "\\text{ mit } \\forall a_i \\in {0,1} \\text{ und } C_{ij} \\in \\mathbb{R}, W,b_i \\in \\mathbb{R} \\end{align}\n",
    "\n",
    "Da für binäre Variablen gilt $a_i^2=a_i$ lässt sich durch eine entsprechende Umdefinition von $C_{ij}$ und $b_i$ das Optimierungsproblem auch wieder als normales QUBO schreiben!"
   ]
  },
  {
   "cell_type": "code",
   "execution_count": 6,
   "metadata": {
    "colab": {
     "base_uri": "https://localhost:8080/",
     "height": 612
    },
    "id": "82abPTsV1zqj",
    "outputId": "78876661-0b73-4009-e6ad-1a185e946d80",
    "slideshow": {
     "slide_type": "slide"
    }
   },
   "outputs": [
    {
     "name": "stdout",
     "output_type": "stream",
     "text": [
      "BinaryQuadraticModel({'Pappe': -230.0, 'Kanten': -190.0, 'Füllen': -200.0, 'Bemalen': -210.0}, {('Kanten', 'Pappe'): 150.0, ('Füllen', 'Pappe'): 120.0, ('Füllen', 'Kanten'): 150.0, ('Bemalen', 'Pappe'): 120.0, ('Bemalen', 'Kanten'): 120.0, ('Bemalen', 'Füllen'): 80.0}, 240.0, 'BINARY')\n",
      "   Bemalen Füllen Kanten Pappe energy num_oc.\n",
      "8        1      1      0     0  -90.0       1\n",
      "9        1      1      0     1  -80.0       1\n",
      "14       1      0      0     1  -80.0       1\n",
      "6        0      1      0     1  -70.0       1\n",
      "12       1      0      1     0  -40.0       1\n",
      "2        0      0      1     1  -30.0       1\n",
      "11       1      1      1     0  -10.0       1\n",
      "4        0      1      1     0    0.0       1\n",
      "13       1      0      1     1    0.0       1\n",
      "1        0      0      0     1   10.0       1\n",
      "15       1      0      0     0   30.0       1\n",
      "5        0      1      1     1   40.0       1\n",
      "7        0      1      0     0   40.0       1\n",
      "3        0      0      1     0   50.0       1\n",
      "10       1      1      1     1  150.0       1\n",
      "0        0      0      0     0  240.0       1\n",
      "['BINARY', 16 rows, 16 samples, 4 variables]\n"
     ]
    },
    {
     "data": {
      "text/plain": [
       "<AxesSubplot:>"
      ]
     },
     "execution_count": 6,
     "metadata": {},
     "output_type": "execute_result"
    },
    {
     "data": {
      "image/png": "[encoded data removed]",
      "text/plain": [
       "<Figure size 640x480 with 1 Axes>"
      ]
     },
     "metadata": {},
     "output_type": "display_data"
    }
   ],
   "source": [
    "bqm=dimod.BinaryQuadraticModel(-b,-C/2,dimod.BINARY)\n",
    "bqm.relabel_variables({0:\"Pappe\",1:\"Kanten\",2:\"Füllen\",3:\"Bemalen\"})\n",
    "W= 60\n",
    "bqm.add_linear_equality_constraint([(\"Pappe\",1),(\"Kanten\",1),(\"Füllen\",1),(\"Bemalen\",1)],W,-2)\n",
    "print(bqm)\n",
    "\n",
    "solver = dimod.ExactSolver()\n",
    "solutions = solver.sample(bqm)\n",
    "print(solutions)\n",
    "\n",
    "energies =solutions.to_pandas_dataframe()\n",
    "energies.plot(y=\"energy\")"
   ]
  },
  {
   "cell_type": "markdown",
   "metadata": {
    "slideshow": {
     "slide_type": "slide"
    }
   },
   "source": [
    "## Lösung des QUBO-Problems klassisch"
   ]
  },
  {
   "cell_type": "markdown",
   "metadata": {
    "slideshow": {
     "slide_type": "slide"
    }
   },
   "source": [
    "Sobald die Anzahl der zu optimierenden binären Variablen größer und größer werden, müssen immer mehr potenzielle Lösungen per \"brute force\" durchprobiert werden. Bei N binären Variablen sind das $2^N$ Lösungen.\n",
    "\n",
    "Da dies irgenwann zu lang dauert, wurden \"klassisch\" Lösungsalgorithmen entwickelt.\n",
    "Problematik: Ist eine gefundene Lösung wirklich DIE BESTE oder gibt es nicht noch eine bessere Lösung? \n",
    "\n",
    "Um ein QUBO klassisch zu lösen gibt es eine Vielzahl kommerzieller und open-Source Lösungen auf dem Markt. Wir wollen hier CPLEX von IBM verwenden, da es später einen einfachen Übergang in die Welt des Quantencomputings erlaubt."
   ]
  },
  {
   "cell_type": "code",
   "execution_count": 7,
   "metadata": {
    "id": "YrnkmwcpBlkx",
    "slideshow": {
     "slide_type": "slide"
    }
   },
   "outputs": [],
   "source": [
    "## \"Schönere Darstellung unseren Problems:\"\n",
    "\n",
    "comp=[\"Pappe\",\"Kanten\",\"Füllen\",\"Bemalen\"]\n",
    "df_comp=pd.DataFrame()\n",
    "\n",
    "df_comp = pd.DataFrame(b,columns=['b'])    \n",
    "df_comp.index = [\"Pappe\",\"Kanten\",\"Füllen\",\"Bemalen\"]\n",
    "\n",
    "C=pd.DataFrame(C/2,columns=[\"Pappe\",\"Kanten\",\"Füllen\",\"Bemalen\"],index=[\"Pappe\",\"Kanten\",\"Füllen\",\"Bemalen\"])\n"
   ]
  },
  {
   "cell_type": "code",
   "execution_count": 8,
   "metadata": {
    "slideshow": {
     "slide_type": "slide"
    }
   },
   "outputs": [
    {
     "data": {
      "text/html": [
       "<div>\n",
       "<style scoped>\n",
       "    .dataframe tbody tr th:only-of-type {\n",
       "        vertical-align: middle;\n",
       "    }\n",
       "\n",
       "    .dataframe tbody tr th {\n",
       "        vertical-align: top;\n",
       "    }\n",
       "\n",
       "    .dataframe thead th {\n",
       "        text-align: right;\n",
       "    }\n",
       "</style>\n",
       "<table border=\"1\" class=\"dataframe\">\n",
       "  <thead>\n",
       "    <tr style=\"text-align: right;\">\n",
       "      <th></th>\n",
       "      <th>Pappe</th>\n",
       "      <th>Kanten</th>\n",
       "      <th>Füllen</th>\n",
       "      <th>Bemalen</th>\n",
       "    </tr>\n",
       "  </thead>\n",
       "  <tbody>\n",
       "    <tr>\n",
       "      <th>Pappe</th>\n",
       "      <td>0.0</td>\n",
       "      <td>-15.0</td>\n",
       "      <td>0.0</td>\n",
       "      <td>0.0</td>\n",
       "    </tr>\n",
       "    <tr>\n",
       "      <th>Kanten</th>\n",
       "      <td>-15.0</td>\n",
       "      <td>0.0</td>\n",
       "      <td>-15.0</td>\n",
       "      <td>0.0</td>\n",
       "    </tr>\n",
       "    <tr>\n",
       "      <th>Füllen</th>\n",
       "      <td>0.0</td>\n",
       "      <td>-15.0</td>\n",
       "      <td>0.0</td>\n",
       "      <td>20.0</td>\n",
       "    </tr>\n",
       "    <tr>\n",
       "      <th>Bemalen</th>\n",
       "      <td>0.0</td>\n",
       "      <td>0.0</td>\n",
       "      <td>20.0</td>\n",
       "      <td>0.0</td>\n",
       "    </tr>\n",
       "  </tbody>\n",
       "</table>\n",
       "</div>"
      ],
      "text/plain": [
       "         Pappe  Kanten  Füllen  Bemalen\n",
       "Pappe      0.0   -15.0     0.0      0.0\n",
       "Kanten   -15.0     0.0   -15.0      0.0\n",
       "Füllen     0.0   -15.0     0.0     20.0\n",
       "Bemalen    0.0     0.0    20.0      0.0"
      ]
     },
     "execution_count": 8,
     "metadata": {},
     "output_type": "execute_result"
    }
   ],
   "source": [
    "C"
   ]
  },
  {
   "cell_type": "code",
   "execution_count": 9,
   "metadata": {
    "slideshow": {
     "slide_type": "slide"
    }
   },
   "outputs": [
    {
     "name": "stdout",
     "output_type": "stream",
     "text": [
      "// This file has been generated by DOcplex\n",
      "// model name is: Optimiere_Wuerfel\n",
      "// var contrainer section\n",
      "dvar bool bin[4];\n",
      "\n",
      "minimize\n",
      " - 50 bin_Pappe - 10 bin_Kanten - 20 bin_Füllen - 30 bin_Bemalen [\n",
      " 30 bin_Pappe*bin_Kanten + 30 bin_Kanten*bin_Füllen\n",
      " - 40 bin_Füllen*bin_Bemalen ];\n",
      " \n",
      "subject to {\n",
      "\n",
      "}\n",
      "* model Optimiere_Wuerfel solved with objective = -140.000\n",
      "Solution: -140.0\n",
      "[bin_Pappe bin_Kanten bin_Füllen bin_Bemalen]\n",
      "Bitstring: [1.0, 0, 1.0, 1.0]\n"
     ]
    }
   ],
   "source": [
    "## Definiere und benamse das Modell\n",
    "mdl = Model(name='Optimiere_Wuerfel')\n",
    "\n",
    "## Definiere die Entscheidungsvariablen und gebe ihnen einen Namen:\n",
    "df_comp['bin'] = mdl.binary_var_list(comp, name='bin')\n",
    "\n",
    "\n",
    "## Berechne den Erlös pro Feature \n",
    "gain1 = mdl.dot(df_comp.bin,df_comp.b)\n",
    "\n",
    "#mdl.add_constraint(mdl.sum(df_comp['bin']) == budget)\n",
    "\n",
    "## Berechne die Effekte wenn zwei Komponenten paralle auftreten\n",
    "bini = df_comp.bin\n",
    "gain2 = mdl.sum((float(C[s1][s2]) * bini[s1] * bini[s2]) for s1 in df_comp.index for s2 in df_comp.index)\n",
    "\n",
    "# Addiere beide Bestandteile der Erlösfunktion\n",
    "obj=gain1+gain2\n",
    "\n",
    "## Und Minimiere die negative Zielfunktion\n",
    "mdl.minimize(-obj)\n",
    "\n",
    "mdl.prettyprint()\n",
    "\n",
    "assert mdl.solve(url=None, key=None), \"Solve failed\"\n",
    "\n",
    "mdl.report()\n",
    "sol=mdl.solution.get_objective_value()\n",
    "print(\"Solution:\",sol)\n",
    "\n",
    "Solution=[]\n",
    "for i in range(4):\n",
    "    Solution.append(df_comp['bin'][i].solution_value)    \n",
    "\n",
    "print(df_comp['bin'].values)\n",
    "print(\"Bitstring:\",Solution)\n"
   ]
  },
  {
   "cell_type": "code",
   "execution_count": 10,
   "metadata": {
    "slideshow": {
     "slide_type": "slide"
    }
   },
   "outputs": [
    {
     "name": "stdout",
     "output_type": "stream",
     "text": [
      "// This file has been generated by DOcplex\n",
      "// model name is: Optimiere_Wuerfel\n",
      "// var contrainer section\n",
      "dvar bool bin[4];\n",
      "\n",
      "minimize\n",
      " - 50 bin_Pappe - 10 bin_Kanten - 20 bin_Füllen - 30 bin_Bemalen [\n",
      " 30 bin_Pappe*bin_Kanten + 30 bin_Kanten*bin_Füllen\n",
      " - 40 bin_Füllen*bin_Bemalen ];\n",
      " \n",
      "subject to {\n",
      " bin_Pappe + bin_Kanten + bin_Füllen + bin_Bemalen == 2;\n",
      "\n",
      "}\n",
      "* model Optimiere_Wuerfel solved with objective = -90.000\n",
      "Solution: -90.0\n",
      "[bin_Pappe bin_Kanten bin_Füllen bin_Bemalen]\n",
      "Bitstring: [0, 0, 1.0, 1.0]\n"
     ]
    }
   ],
   "source": [
    "## Und das Selbe unter Berücksichtigung der Zwangsbedingung:\n",
    "\n",
    "\n",
    "## Definiere und benamse das Modell\n",
    "mdl = Model(name='Optimiere_Wuerfel')\n",
    "\n",
    "## Definiere die Entscheidungsvariablen und gebe ihnen einen Namen:\n",
    "df_comp['bin'] = mdl.binary_var_list(comp, name='bin')\n",
    "\n",
    "\n",
    "## Berechne den Erlös pro Feature \n",
    "gain1 = mdl.dot(df_comp.bin,df_comp.b)\n",
    "\n",
    "mdl.add_constraint(mdl.sum(df_comp['bin']) == 2)\n",
    "\n",
    "## Berechne die Effekte wenn zwei Komponenten paralle auftreten\n",
    "bini = df_comp.bin\n",
    "gain2 = mdl.sum((float(C[s1][s2]) * bini[s1] * bini[s2]) for s1 in df_comp.index for s2 in df_comp.index)\n",
    "\n",
    "# Addiere beide Bestandteile der Erlösfunktion\n",
    "obj=gain1+gain2\n",
    "\n",
    "## Und Minimiere die negative Zielfunktion\n",
    "mdl.minimize(-obj)\n",
    "\n",
    "mdl.prettyprint()\n",
    "\n",
    "assert mdl.solve(url=None, key=None), \"Solve failed\"\n",
    "\n",
    "mdl.report()\n",
    "sol=mdl.solution.get_objective_value()\n",
    "print(\"Solution:\",sol)\n",
    "\n",
    "Solution=[]\n",
    "for i in range(4):\n",
    "    Solution.append(df_comp['bin'][i].solution_value)    \n",
    "\n",
    "print(df_comp['bin'].values)\n",
    "print(\"Bitstring:\",Solution)\n"
   ]
  },
  {
   "cell_type": "markdown",
   "metadata": {
    "slideshow": {
     "slide_type": "slide"
    }
   },
   "source": [
    "#### Fazit:\n",
    "\n",
    "Es ergeben sich die selben Lösungen wie mit Brute-Force; mit den in CPLEX implementierten Algorthmen liessen sich aber auch größere Probleme lösen."
   ]
  },
  {
   "cell_type": "markdown",
   "metadata": {
    "slideshow": {
     "slide_type": "slide"
    }
   },
   "source": [
    "## Und wie bekommt man dieses Problem nun auf den Quantencomputer?"
   ]
  },
  {
   "cell_type": "markdown",
   "metadata": {
    "slideshow": {
     "slide_type": "slide"
    }
   },
   "source": [
    "#### Strategie:\n",
    "\n",
    "* Ein Quantencomputer besteht aus Qubits. Diese können nicht nur (wie die klassischen Bits) die Werte 0 und 1 annehmen, sondern auch alle Werte \"zwischendrin\": $\\psi = a|0 \\rangle + b |1\\rangle$ mit a,b komplexe Zahlen.\n",
    "* Sobald man aber ein Qubit misst, muss es sich entscheiden ob es eine 0 (mit Wahrscheinlichkeit $|a|^2$) \n",
    "oder 1 (mit Wahrscheinlichkeit $|b|^2$) wird.\n",
    "* Nimm vier Qubits; führe bestimmte \"Manipulationen\" mit diesen aus $\\rightarrow$ generiere einen Bitstring der Länge 4 aus 0 und 1, z.B. [0,1,1,0].\n",
    "* Der wichtige (und kritische) Punkt ist jetzt, welche \"Manipulationen\" man mit den 4 Qubits durchführt, damit am Ende der Prozedur, der optimale Bitstring gemessen wird .... \n",
    "\n"
   ]
  },
  {
   "cell_type": "markdown",
   "metadata": {
    "slideshow": {
     "slide_type": "slide"
    }
   },
   "source": [
    "#### Strategie von QAOA:\n",
    "\n",
    "* Die oben erwähnten \"Manipulationen\" lassen sich formal/mathematisch durch eine unitäre Matrix U beschreiben.\n",
    "* Eine unitäre Matrix wiederum lässt sich als $U=e^{iH}$ mit einer hermiteschen Matrix H beschreiben.\n",
    "* Als H verwenden wir an dieser Stelle eine \"quantenmechanische\" Version unseres QUBOs:\n",
    "\n",
    "\\begin{align}\\ H=\\sum_{i<j} C_{ij}a_i a_j + \\sum_{i} b_i a_i \\rightarrow \\end{align} \n",
    "$$ H_{Ising}=\\sum_{i<j} J_{i,j} {\\hat\\sigma_{z}^{(i)}} {\\hat\\sigma_{z}^{(j)}}+ \\sum_{i} h_i {\\hat\\sigma_{z}^{(i)}}$$\n",
    "\n"
   ]
  },
  {
   "cell_type": "markdown",
   "metadata": {
    "slideshow": {
     "slide_type": "slide"
    }
   },
   "source": [
    "Aus den binären Entscheidungsvariablen $a_i$ werden also die sog. \"Pauli z-Matrizen\" und dieser Hamilton-Operator ist hermitesch! Physiker kennen dies als \"Ising-Modell\". $J_{i,j}$ und $h_i$ lassen sich aus den ursprünglichen Parametern des Problems (C und b) berechnen.\n",
    "\n",
    "\n",
    "* Eine andere Betrachtungsweise ist, dass wir unser Problem \"Finde den Bitstring\" der unsere Zielfunktion minimiert\" umformuliert haben in das Problem \"Finde den kleinsten Eigenwert der Matrix H\"! Quantencomputing ist in dieser Betrachtung eigentlich nichts anderes als lineare Algebra (Vektoren, Matrizen, ..) mit komplexen Zahlen. \n",
    "Spoiler: Wir werden unten zeigen, dass wir \"unser kleines Problem\" auf diese Art und Weise lösen können - bei richtig großen Matrizen (=viele Qubits) geht das nicht mehr, da der Hauptspeicher eines klassischen Computers zu klein ist. \n",
    "\n",
    "* Da wir nun in der Quantenmechanki angekommen sind, suchen wir nach einem Zustand $| \\Psi \\rangle$ welcher den Erwartungswert dieses Hamilton-Operaors minimiert:  $\\langle \\Psi | H  | \\Psi \\rangle \\rightarrow min$.\n",
    "\n"
   ]
  },
  {
   "cell_type": "markdown",
   "metadata": {
    "slideshow": {
     "slide_type": "slide"
    }
   },
   "source": [
    "* Starte mit einem parametrisierten Ansatz $| \\Psi (\\alpha, \\beta, \\gamma ...) \\rangle$ und variere die Parameter so lange, bis das Minimum erreicht ist. Das ist die allg. Idee der sog. \"Variationellen Quantenalgorithmen (VQA)\".\n",
    "\n",
    "* QAOA ist ein Spezialfall davon; hier macht man keinen möglichst allgemeinen Ansatz (mit vielen Parametern ...), sondern lässt sich beim Ansatz durch die Physik inspirieren:\n",
    "\n",
    "* Motiviert durch das \"Adiabatentheorem\" (ein System bei dem man Änderungen nur langsam genug vornimmt bleibt immer in seinem Grundzustand) wird schliesslich bei QAOA folgender Ansatz gemacht:\n",
    "\n",
    "$$ H_{final} = \\alpha H_{mixer} + \\beta H_{Ising}$$ mit $$ H_{mixer}=\\sum_i {\\hat\\sigma_{x}^{(i)}}$$\n",
    " \n"
   ]
  },
  {
   "cell_type": "markdown",
   "metadata": {
    "slideshow": {
     "slide_type": "slide"
    }
   },
   "source": [
    "* $U=e^{iH_{final}}$ lässt sich nun nicht nur einmal, sondern mehrmals mit jeweils anderen Parametern $\\alpha$ und $\\beta$ anwenden und man erhofft sich, dass sich mit steigender Anzahl der Anwendungen der Grundzustand von $H_{Ising}$ besser finden lässt.\n",
    "* Die Parameter $\\alpha$ und $\\beta$ werden mittels eines klassischen Optimierers solange angepasst, bis der Bitstring als Messergebnis kein besseres Ergebnis mehr liefert.\n",
    "\n",
    "Eine interessante und lesenswerte Einführung in QAOA welche die unterschiedlichen Fäden verknüpft, findet sich unter:\n",
    "\n",
    "https://www.mustythoughts.com/quantum-approximate-optimization-algorithm-explained"
   ]
  },
  {
   "cell_type": "markdown",
   "metadata": {
    "slideshow": {
     "slide_type": "slide"
    }
   },
   "source": [
    "#### Gute Nachricht:\n",
    "In vielen Frameworks wie z.B. Qiskit von IBM muss man QAOA nicht von Hand implmentieren - es gibt hierfür bereits definierte Funktionen (oder Klassen) die man out-of-the-box verwenden kann"
   ]
  },
  {
   "cell_type": "code",
   "execution_count": 11,
   "metadata": {
    "slideshow": {
     "slide_type": "skip"
    }
   },
   "outputs": [],
   "source": [
    "## Helper functions: Source: IBM \n",
    "\n",
    "def index_to_selection(i):\n",
    "    s = \"{0:b}\".format(i).rjust(4)\n",
    "    x = np.array([1 if s[i]=='1' else 0 for i in reversed(range(4))])\n",
    "    return x\n",
    "\n",
    "def print_result(result):\n",
    "    selection = result.x\n",
    "    value = result.fval\n",
    "    print('Optimal: selection {}, value {:.4f}'.format(selection, value))\n",
    "\n",
    "    eigenstate = result.min_eigen_solver_result.eigenstate\n",
    "    eigenvector = eigenstate if isinstance(eigenstate, np.ndarray) else eigenstate.to_matrix()\n",
    "    probabilities = np.abs(eigenvector)**2\n",
    "    i_sorted = reversed(np.argsort(probabilities))\n",
    "    print('\\n----------------- Full result ---------------------')\n",
    "    print('selection\\tvalue\\t\\tprobability')\n",
    "    print('---------------------------------------------------')\n",
    "    for i in i_sorted:\n",
    "        x = index_to_selection(i)\n",
    "        value = QuadraticProgramToQubo().convert(qp).objective.evaluate(x)\n",
    "        #value = portfolio.to_quadratic_program().objective.evaluate(x)\n",
    "        probability = probabilities[i]\n",
    "        print('%10s\\t%.4f\\t\\t%.4f' %(x, value, probability))"
   ]
  },
  {
   "cell_type": "code",
   "execution_count": 12,
   "metadata": {
    "scrolled": true,
    "slideshow": {
     "slide_type": "slide"
    }
   },
   "outputs": [
    {
     "name": "stdout",
     "output_type": "stream",
     "text": [
      "Konstante: 10.0\n",
      "Matrix: 17.5 * IIIZ\n",
      "- 10.0 * IIZI\n",
      "+ 12.5 * IZII\n",
      "+ 25.0 * ZIII\n",
      "+ 37.5 * IIZZ\n",
      "+ 30.0 * IZIZ\n",
      "+ 37.5 * IZZI\n",
      "+ 30.0 * ZIIZ\n",
      "+ 30.0 * ZIZI\n",
      "+ 20.0 * ZZII\n"
     ]
    }
   ],
   "source": [
    "# Konvertiere das in CPLEX definierte Optimierungsproblem in ein QUBO:\n",
    "mod = from_docplex_mp(mdl)\n",
    "\n",
    "# Verarbeite die Nebenbedinung korrekt\n",
    "lineq2penalty = LinearEqualityToPenalty(W) \n",
    "qp = lineq2penalty.convert(mod)\n",
    "\n",
    "# Wandle das QUBO-Problem in einen Hamilton-Operator um\n",
    "op,offset=op, offset = qp.to_ising()\n",
    "print(\"Konstante:\",offset)\n",
    "print(\"Matrix:\",op)"
   ]
  },
  {
   "cell_type": "markdown",
   "metadata": {
    "slideshow": {
     "slide_type": "slide"
    }
   },
   "source": [
    "Note: Z und I sind jeweils 2x2 Matrizen; Z ist die Paulische z-Matrix. offset ist eine Konstante, welcher Bitstring der Beste ist, ist unabhängig von dieser Konstante!"
   ]
  },
  {
   "cell_type": "markdown",
   "metadata": {
    "slideshow": {
     "slide_type": "slide"
    }
   },
   "source": [
    "Formuliert als Matrix hat unser Problem die Größe $2^4=16$ - das ist überschaubar und darstellbar. Da H außerdem diagonal ist, stehen die Eigenwerte in der Diagonalen und wir müssen nur den kleinsten Wert auf der Diagonale suchen: "
   ]
  },
  {
   "cell_type": "code",
   "execution_count": 13,
   "metadata": {
    "id": "iNpyStjbIA4h",
    "slideshow": {
     "slide_type": "slide"
    }
   },
   "outputs": [
    {
     "name": "stdout",
     "output_type": "stream",
     "text": [
      "dim(H): (16, 16)\n",
      "---------------------------------------------------------\n",
      "Matrix H:\n",
      "[[ 230.    0.    0.    0.    0.    0.    0.    0.    0.    0.    0.    0.\n",
      "     0.    0.    0.    0.]\n",
      " [   0.    0.    0.    0.    0.    0.    0.    0.    0.    0.    0.    0.\n",
      "     0.    0.    0.    0.]\n",
      " [   0.    0.   40.    0.    0.    0.    0.    0.    0.    0.    0.    0.\n",
      "     0.    0.    0.    0.]\n",
      " [   0.    0.    0.  -40.    0.    0.    0.    0.    0.    0.    0.    0.\n",
      "     0.    0.    0.    0.]\n",
      " [   0.    0.    0.    0.   30.    0.    0.    0.    0.    0.    0.    0.\n",
      "     0.    0.    0.    0.]\n",
      " [   0.    0.    0.    0.    0.  -80.    0.    0.    0.    0.    0.    0.\n",
      "     0.    0.    0.    0.]\n",
      " [   0.    0.    0.    0.    0.    0.  -10.    0.    0.    0.    0.    0.\n",
      "     0.    0.    0.    0.]\n",
      " [   0.    0.    0.    0.    0.    0.    0.   30.    0.    0.    0.    0.\n",
      "     0.    0.    0.    0.]\n",
      " [   0.    0.    0.    0.    0.    0.    0.    0.   20.    0.    0.    0.\n",
      "     0.    0.    0.    0.]\n",
      " [   0.    0.    0.    0.    0.    0.    0.    0.    0.  -90.    0.    0.\n",
      "     0.    0.    0.    0.]\n",
      " [   0.    0.    0.    0.    0.    0.    0.    0.    0.    0.  -50.    0.\n",
      "     0.    0.    0.    0.]\n",
      " [   0.    0.    0.    0.    0.    0.    0.    0.    0.    0.    0.  -10.\n",
      "     0.    0.    0.    0.]\n",
      " [   0.    0.    0.    0.    0.    0.    0.    0.    0.    0.    0.    0.\n",
      "  -100.    0.    0.    0.]\n",
      " [   0.    0.    0.    0.    0.    0.    0.    0.    0.    0.    0.    0.\n",
      "     0.  -90.    0.    0.]\n",
      " [   0.    0.    0.    0.    0.    0.    0.    0.    0.    0.    0.    0.\n",
      "     0.    0.  -20.    0.]\n",
      " [   0.    0.    0.    0.    0.    0.    0.    0.    0.    0.    0.    0.\n",
      "     0.    0.    0.  140.]]\n",
      "---------------------------------------------------------\n",
      "Diagonalelemente der Matrix H=Eigenwerte\n",
      "[240.  10.  50. -30.  40. -70.   0.  40.  30. -80. -40.   0. -90. -80.\n",
      " -10. 150.]\n",
      "---------------------------------------------------------\n"
     ]
    },
    {
     "data": {
      "image/png": "[encoded data removed]",
      "text/plain": [
       "<Figure size 1200x500 with 1 Axes>"
      ]
     },
     "metadata": {},
     "output_type": "display_data"
    }
   ],
   "source": [
    "#Show exact spectrum of the Hamiltonian\n",
    "H=op\n",
    "n=4\n",
    "# print Ising Hamiltonian as matrix\n",
    "H_matrix = np.real(H.to_matrix())\n",
    "print('dim(H):', H_matrix.shape)\n",
    "print(\"---------------------------------------------------------\")\n",
    "print(\"Matrix H:\")\n",
    "print(H_matrix)\n",
    "print(\"---------------------------------------------------------\")\n",
    "print(\"Diagonalelemente der Matrix H=Eigenwerte\")\n",
    "print(H_matrix.diagonal()+offset)\n",
    "print(\"---------------------------------------------------------\")\n",
    "# plot diagonal of matrix\n",
    "opt_indices = list(np.where(H_matrix.diagonal() == min(H_matrix.diagonal())))[0]\n",
    "plt.figure(figsize=(12, 5))\n",
    "plt.bar(range(2**n), H_matrix.diagonal()+offset)\n",
    "plt.bar(opt_indices, H_matrix.diagonal()[opt_indices], color='g')\n",
    "plt.xticks(range(2**n), ['('+str(i)+') {0:04b}'.format(i) for i in range(2**n)], rotation=90, fontsize=14)\n",
    "plt.yticks(fontsize=14)\n",
    "plt.show()"
   ]
  },
  {
   "cell_type": "markdown",
   "metadata": {
    "slideshow": {
     "slide_type": "slide"
    }
   },
   "source": [
    "Wie sehen: Der optimale Werte von -90 mit dem Bitstring [0,0,1,1] wird auch hier gefunden! "
   ]
  },
  {
   "cell_type": "markdown",
   "metadata": {
    "slideshow": {
     "slide_type": "slide"
    }
   },
   "source": [
    "Eine andere klassische Möglichkeit besteht darin, die Matrix H mit einer Numpy-Routine zu diagonalisieren:"
   ]
  },
  {
   "cell_type": "code",
   "execution_count": 14,
   "metadata": {
    "slideshow": {
     "slide_type": "slide"
    }
   },
   "outputs": [
    {
     "name": "stdout",
     "output_type": "stream",
     "text": [
      "fval=-90.0, bin_Pappe=0.0, bin_Kanten=0.0, bin_Füllen=1.0, bin_Bemalen=1.0, status=SUCCESS\n",
      "Optimal: selection [0. 0. 1. 1.], value -90.0000\n",
      "\n",
      "----------------- Full result ---------------------\n",
      "selection\tvalue\t\tprobability\n",
      "---------------------------------------------------\n",
      " [0 0 1 1]\t-90.0000\t\t1.0000\n",
      " [1 1 1 1]\t150.0000\t\t0.0000\n",
      " [0 1 1 1]\t-10.0000\t\t0.0000\n",
      " [1 0 1 1]\t-80.0000\t\t0.0000\n",
      " [1 1 0 1]\t0.0000\t\t0.0000\n",
      " [0 1 0 1]\t-40.0000\t\t0.0000\n",
      " [1 0 0 1]\t-80.0000\t\t0.0000\n",
      " [0 0 0 1]\t30.0000\t\t0.0000\n",
      " [1 1 1 0]\t40.0000\t\t0.0000\n",
      " [0 1 1 0]\t0.0000\t\t0.0000\n",
      " [1 0 1 0]\t-70.0000\t\t0.0000\n",
      " [0 0 1 0]\t40.0000\t\t0.0000\n",
      " [1 1 0 0]\t-30.0000\t\t0.0000\n",
      " [0 1 0 0]\t50.0000\t\t0.0000\n",
      " [1 0 0 0]\t10.0000\t\t0.0000\n",
      " [0 0 0 0]\t240.0000\t\t0.0000\n"
     ]
    }
   ],
   "source": [
    "exact_mes = NumPyMinimumEigensolver()\n",
    "exact_eigensolver = MinimumEigenOptimizer(exact_mes)\n",
    "\n",
    "result_numpy = exact_eigensolver.solve(mod)\n",
    "\n",
    "print(result_numpy)\n",
    "print_result(result_numpy)"
   ]
  },
  {
   "cell_type": "markdown",
   "metadata": {
    "slideshow": {
     "slide_type": "slide"
    }
   },
   "source": [
    "An dieser Stelle schwenken wir nun auf den Quantencomputer. Zuerst mal noch in der \"Statevector-Simulation\": D.h. der Rechner führt hier eine exakte Rechnung des quantenmechanischen Problems unter Anwendung des QAOA-Algorithmus durch:"
   ]
  },
  {
   "cell_type": "code",
   "execution_count": 15,
   "metadata": {
    "slideshow": {
     "slide_type": "slide"
    }
   },
   "outputs": [
    {
     "name": "stdout",
     "output_type": "stream",
     "text": [
      "fval=-90.0, bin_Pappe=0.0, bin_Kanten=0.0, bin_Füllen=1.0, bin_Bemalen=1.0, status=SUCCESS\n",
      "Optimal: selection [0. 0. 1. 1.], value -90.0000\n",
      "\n",
      "----------------- Full result ---------------------\n",
      "selection\tvalue\t\tprobability\n",
      "---------------------------------------------------\n",
      " [1 0 1 0]\t-70.0000\t\t0.2361\n",
      " [0 0 0 1]\t30.0000\t\t0.2000\n",
      " [1 0 0 1]\t-80.0000\t\t0.1391\n",
      " [1 0 0 0]\t10.0000\t\t0.1026\n",
      " [1 0 1 1]\t-80.0000\t\t0.0869\n",
      " [1 1 1 0]\t40.0000\t\t0.0548\n",
      " [0 0 1 1]\t-90.0000\t\t0.0498\n",
      " [0 0 1 0]\t40.0000\t\t0.0276\n",
      " [1 1 1 1]\t150.0000\t\t0.0248\n",
      " [0 1 0 0]\t50.0000\t\t0.0248\n",
      " [1 1 0 0]\t-30.0000\t\t0.0213\n",
      " [0 0 0 0]\t240.0000\t\t0.0103\n",
      " [1 1 0 1]\t0.0000\t\t0.0097\n",
      " [0 1 1 0]\t0.0000\t\t0.0079\n",
      " [0 1 1 1]\t-10.0000\t\t0.0025\n",
      " [0 1 0 1]\t-40.0000\t\t0.0017\n"
     ]
    }
   ],
   "source": [
    "algorithm_globals.random_seed = 1234\n",
    "backend = Aer.get_backend('statevector_simulator')\n",
    "quantum_instance = QuantumInstance(backend=backend, seed_simulator=123, seed_transpiler=123)\n",
    "\n",
    "\n",
    "cobyla = COBYLA()\n",
    "cobyla.set_options(maxiter=250)\n",
    "qaoa_mes = QAOA(optimizer=cobyla, reps=1, quantum_instance=quantum_instance)\n",
    "qaoa = MinimumEigenOptimizer(qaoa_mes)\n",
    "result_sv = qaoa.solve(qp)\n",
    "\n",
    "print(result_sv)\n",
    "print_result(result_sv)"
   ]
  },
  {
   "cell_type": "markdown",
   "metadata": {
    "slideshow": {
     "slide_type": "slide"
    }
   },
   "source": [
    "Als nächstes nutzen wir einen Quanten-Simulator, d.h. immer noch einen klassischen Rechner, der die Funktionsweise eines \n",
    "idealen=perfekten Quantencomputers simuliert. Das funktioniert in der Praxis bis zu ca. 30 Qubits:"
   ]
  },
  {
   "cell_type": "code",
   "execution_count": 16,
   "metadata": {
    "slideshow": {
     "slide_type": "slide"
    }
   },
   "outputs": [
    {
     "name": "stdout",
     "output_type": "stream",
     "text": [
      "fval=-90.0, bin_Pappe=0.0, bin_Kanten=0.0, bin_Füllen=1.0, bin_Bemalen=1.0, status=SUCCESS\n",
      "[SolutionSample(x=array([0., 0., 1., 1.]), fval=-90.0, probability=0.0277099609375, status=<OptimizationResultStatus.SUCCESS: 0>), SolutionSample(x=array([1., 0., 0., 1.]), fval=-80.0, probability=0.200927734375, status=<OptimizationResultStatus.SUCCESS: 0>), SolutionSample(x=array([1., 0., 1., 1.]), fval=-80.0, probability=0.081298828125, status=<OptimizationResultStatus.SUCCESS: 0>), SolutionSample(x=array([1., 0., 1., 0.]), fval=-70.0, probability=0.10693359374999999, status=<OptimizationResultStatus.SUCCESS: 0>), SolutionSample(x=array([0., 1., 0., 1.]), fval=-40.0, probability=0.165771484375, status=<OptimizationResultStatus.SUCCESS: 0>), SolutionSample(x=array([1., 1., 0., 0.]), fval=-30.0, probability=0.0164794921875, status=<OptimizationResultStatus.SUCCESS: 0>), SolutionSample(x=array([0., 1., 1., 1.]), fval=-10.0, probability=0.0386962890625, status=<OptimizationResultStatus.SUCCESS: 0>), SolutionSample(x=array([0., 1., 1., 0.]), fval=0.0, probability=0.182373046875, status=<OptimizationResultStatus.SUCCESS: 0>), SolutionSample(x=array([1., 1., 0., 1.]), fval=0.0, probability=0.018676757812499997, status=<OptimizationResultStatus.SUCCESS: 0>), SolutionSample(x=array([1., 0., 0., 0.]), fval=10.0, probability=0.0355224609375, status=<OptimizationResultStatus.SUCCESS: 0>), SolutionSample(x=array([0., 0., 0., 1.]), fval=30.0, probability=0.0174560546875, status=<OptimizationResultStatus.SUCCESS: 0>), SolutionSample(x=array([0., 0., 1., 0.]), fval=40.0, probability=0.021362304687500003, status=<OptimizationResultStatus.SUCCESS: 0>), SolutionSample(x=array([1., 1., 1., 0.]), fval=40.0, probability=0.002685546875, status=<OptimizationResultStatus.SUCCESS: 0>), SolutionSample(x=array([0., 1., 0., 0.]), fval=50.0, probability=0.0574951171875, status=<OptimizationResultStatus.SUCCESS: 0>), SolutionSample(x=array([1., 1., 1., 1.]), fval=150.0, probability=0.02392578125, status=<OptimizationResultStatus.SUCCESS: 0>), SolutionSample(x=array([0., 0., 0., 0.]), fval=240.0, probability=0.002685546875, status=<OptimizationResultStatus.SUCCESS: 0>)]\n"
     ]
    }
   ],
   "source": [
    "algorithm_globals.random_seed = 1234\n",
    "backend = Aer.get_backend('qasm_simulator')\n",
    "quantum_instance = QuantumInstance(backend=backend, seed_simulator=123, seed_transpiler=123,shots=8192)\n",
    "\n",
    "cobyla = COBYLA()\n",
    "cobyla.set_options(maxiter=250)\n",
    "qaoa_mes = QAOA(optimizer=cobyla, reps=1, quantum_instance=quantum_instance)\n",
    "qaoa = MinimumEigenOptimizer(qaoa_mes)\n",
    "result_qaoa = qaoa.solve(qp)\n",
    "\n",
    "print(result_qaoa)\n",
    "print(result_qaoa.samples)"
   ]
  },
  {
   "cell_type": "markdown",
   "metadata": {
    "slideshow": {
     "slide_type": "slide"
    }
   },
   "source": [
    "Eine wichtige Kennzahl für die Güte von QAOA ist die sog. Approximation Ratio: Inwieviel % der Fälle wird beim Sampling des Ergebnisses die optimale Lösung ermittelt ?  \n",
    "\n",
    "Theoretisch wird erwartet, dass mit steigender Anzahl von \"reps\", d.h. die Anzahl der Anwendungen von U, die Approximation Ratio steigt."
   ]
  },
  {
   "cell_type": "code",
   "execution_count": 17,
   "metadata": {},
   "outputs": [
    {
     "name": "stdout",
     "output_type": "stream",
     "text": [
      "-----------------------------\n",
      "1.0\n",
      "Approx.Ratio: 0.8215775923295453\n"
     ]
    }
   ],
   "source": [
    "f_best=-90\n",
    "f_worst=240\n",
    "\n",
    "uu=0\n",
    "r=0\n",
    "for i in range(len(result_qaoa.samples)):\n",
    " r+=(result_qaoa.samples[i].fval-f_worst)/(f_best-f_worst)*result_qaoa.samples[i].probability\n",
    " uu+=result_qaoa.samples[i].probability\n",
    "print('-----------------------------')    \n",
    "print(uu)    \n",
    "print(\"Approx.Ratio:\",r/uu)"
   ]
  },
  {
   "cell_type": "markdown",
   "metadata": {
    "slideshow": {
     "slide_type": "slide"
    }
   },
   "source": [
    "### Lösung des Problem auf einer echten Quantemhardware von IBM:"
   ]
  },
  {
   "cell_type": "code",
   "execution_count": 18,
   "metadata": {},
   "outputs": [],
   "source": [
    "from qiskit import IBMQ\n",
    "from qiskit.providers.ibmq import least_busy"
   ]
  },
  {
   "cell_type": "code",
   "execution_count": 19,
   "metadata": {},
   "outputs": [
    {
     "data": {
      "text/plain": [
       "<AccountProvider for IBMQ(hub='ibm-q', group='open', project='main')>"
      ]
     },
     "execution_count": 19,
     "metadata": {},
     "output_type": "execute_result"
    }
   ],
   "source": [
    "# Lade die Account Informationen\n",
    "IBMQ.load_account()"
   ]
  },
  {
   "cell_type": "code",
   "execution_count": 20,
   "metadata": {
    "slideshow": {
     "slide_type": "slide"
    }
   },
   "outputs": [
    {
     "name": "stdout",
     "output_type": "stream",
     "text": [
      "least busy backend:  ibmq_quito\n"
     ]
    }
   ],
   "source": [
    "provider = IBMQ.get_provider(hub='ibm-q')\n",
    "backend = least_busy(provider.backends(filters=lambda x: x.configuration().n_qubits == 5\n",
    "and not x.configuration().simulator\n",
    "and x.status().operational==True))\n",
    "print(\"least busy backend: \", backend)"
   ]
  },
  {
   "cell_type": "markdown",
   "metadata": {
    "slideshow": {
     "slide_type": "slide"
    }
   },
   "source": [
    "Eine Möglichkeit wäre, einfach das Backend auf die \"echte\" Maschine zu wechseln und den Job loszuschicken....\n",
    "das hat aber den Nachteil, dass der Job ganz oft eine Anfrage über das Netz an den Quantenrechner schickt und dann lokal die Ergebnisse sammelt... Das ist fehleranfällig und sobald die Netzwerkverbindung steht, bricht der Job ab :-( "
   ]
  },
  {
   "cell_type": "raw",
   "metadata": {
    "slideshow": {
     "slide_type": "slide"
    }
   },
   "source": [
    "quantum_instance = QuantumInstance(backend=backend, seed_transpiler=123,shots=8192)\n",
    "\n",
    "cobyla = COBYLA()\n",
    "cobyla.set_options(maxiter=250)\n",
    "qaoa_mes = QAOA(optimizer=cobyla, reps=1, quantum_instance=quantum_instance)\n",
    "qaoa = MinimumEigenOptimizer(qaoa_mes)\n",
    "result_qaoa = qaoa.solve(qp)\n",
    "\n",
    "print(result_qaoa)\n",
    "print(result_qaoa.samples)"
   ]
  },
  {
   "cell_type": "markdown",
   "metadata": {
    "slideshow": {
     "slide_type": "slide"
    }
   },
   "source": [
    "Bessere Lösung: Nutzung von RUNTIME mit der Idee, dass der gesamt Auftrag (Quantenalgorithmus + klassischer Optimierungsteil) an die IBM-Cloud gesendet und ausgeführt wird. Über die Job-Idee kann dann das Ergebnis jederzeit abgerufen werden!"
   ]
  },
  {
   "cell_type": "code",
   "execution_count": 21,
   "metadata": {
    "slideshow": {
     "slide_type": "slide"
    }
   },
   "outputs": [],
   "source": [
    "program_id = \"qaoa\"\n",
    "qaoa_program = provider.runtime.program(program_id)"
   ]
  },
  {
   "cell_type": "code",
   "execution_count": 22,
   "metadata": {
    "slideshow": {
     "slide_type": "slide"
    }
   },
   "outputs": [],
   "source": [
    "# Define the cost operator to run.\n",
    "op = H\n",
    "\n",
    "# SPSA helps deal with noisy environments.\n",
    "optimizer = COBYLA()\n",
    "\n",
    "# We will run a depth two QAOA.\n",
    "reps = 1\n",
    "\n",
    "# The initial point for the optimization, chosen at random.\n",
    "initial_point = np.random.random(2 * reps)\n",
    "\n",
    "# The backend that will run the programm.\n",
    "options = {\"backend_name\": \"ibmq_belem\"}\n",
    "\n",
    "# The inputs of the program as described above.\n",
    "runtime_inputs = {\n",
    "    \"operator\": op,\n",
    "    \"reps\": reps,\n",
    "    \"optimizer\": optimizer,\n",
    "    \"initial_point\": initial_point,\n",
    "    \"shots\": 2 ** 13,\n",
    "    # Set to True when running on real backends to reduce circuit\n",
    "    # depth by leveraging swap strategies. If False the\n",
    "    # given optimization_level (default is 1) will be used.\n",
    "    \"use_swap_strategies\": False,\n",
    "    # Set to True when optimizing sparse problems.\n",
    "    \"use_initial_mapping\": False,\n",
    "    # Set to true when using echoed-cross-resonance hardware.\n",
    "    \"use_pulse_efficient\": False,\n",
    "    \"alpha\":1.0\n",
    "}"
   ]
  },
  {
   "cell_type": "code",
   "execution_count": 23,
   "metadata": {
    "slideshow": {
     "slide_type": "slide"
    }
   },
   "outputs": [],
   "source": [
    "job = provider.runtime.run(\n",
    "    program_id=program_id,\n",
    "    options=options,\n",
    "    inputs=runtime_inputs,\n",
    ")"
   ]
  },
  {
   "cell_type": "code",
   "execution_count": 24,
   "metadata": {
    "slideshow": {
     "slide_type": "slide"
    }
   },
   "outputs": [
    {
     "name": "stdout",
     "output_type": "stream",
     "text": [
      "Job id: ccvv5cdkehlsssif68vg\n",
      "Bob status: JobStatus.QUEUED\n"
     ]
    }
   ],
   "source": [
    "print(f\"Job id: {job.job_id()}\")\n",
    "print(f\"Bob status: {job.status()}\")"
   ]
  },
  {
   "cell_type": "code",
   "execution_count": 25,
   "metadata": {
    "slideshow": {
     "slide_type": "slide"
    }
   },
   "outputs": [
    {
     "data": {
      "text/plain": [
       "{'optimizer_time': 198.26266765594482,\n",
       " 'optimal_value': -22.4462890625,\n",
       " 'optimal_point': array([2.05475494, 0.74076726]),\n",
       " 'optimal_parameters': None,\n",
       " 'cost_function_evals': 33,\n",
       " 'eigenstate': {'0000': 0.17780947932407878,\n",
       "  '0001': 0.16572815184059708,\n",
       "  '0010': 0.20070675904164265,\n",
       "  '0011': 0.20521758650880778,\n",
       "  '0100': 0.28168369339562416,\n",
       "  '0101': 0.3031813736239415,\n",
       "  '0110': 0.2415566380271923,\n",
       "  '0111': 0.3316403949498613,\n",
       "  '1000': 0.30095875444153475,\n",
       "  '1001': 0.3843241836327764,\n",
       "  '1010': 0.28980057798424075,\n",
       "  '1011': 0.2722070529716304,\n",
       "  '1100': 0.2004024271621978,\n",
       "  '1101': 0.15229366163764005,\n",
       "  '1110': 0.17293705954045824,\n",
       "  '1111': 0.1711632992203644},\n",
       " 'eigenvalue': (-22.4462890625+0j),\n",
       " 'aux_operator_eigenvalues': None,\n",
       " 'optimizer_history': {'nfevs': [1,\n",
       "   2,\n",
       "   3,\n",
       "   4,\n",
       "   5,\n",
       "   6,\n",
       "   7,\n",
       "   8,\n",
       "   9,\n",
       "   10,\n",
       "   11,\n",
       "   12,\n",
       "   13,\n",
       "   14,\n",
       "   15,\n",
       "   16,\n",
       "   17,\n",
       "   18,\n",
       "   19,\n",
       "   20,\n",
       "   21,\n",
       "   22,\n",
       "   23,\n",
       "   24,\n",
       "   25,\n",
       "   26,\n",
       "   27,\n",
       "   28,\n",
       "   29,\n",
       "   30,\n",
       "   31,\n",
       "   32,\n",
       "   33],\n",
       "  'params': [array([0.52343717, 0.81853899]),\n",
       "   array([1.52343717, 0.81853899]),\n",
       "   array([1.52343717, 1.81853899]),\n",
       "   array([2.49821915, 0.59537964]),\n",
       "   array([2.01082816, 0.70695931]),\n",
       "   array([2.48845563, 0.55906746]),\n",
       "   array([1.95503832, 0.46326382]),\n",
       "   array([2.30517514, 1.11113731]),\n",
       "   array([2.01402039, 0.4569797 ]),\n",
       "   array([1.88685845, 0.72297531]),\n",
       "   array([2.13423955, 0.7268246 ]),\n",
       "   array([2.01548068, 0.64463272]),\n",
       "   array([2.02015506, 0.736785  ]),\n",
       "   array([1.99454548, 0.75469342]),\n",
       "   array([2.05139499, 0.73757818]),\n",
       "   array([2.05159561, 0.75320189]),\n",
       "   array([2.05195683, 0.72196328]),\n",
       "   array([2.05129091, 0.74538998]),\n",
       "   array([2.0553009 , 0.73763022]),\n",
       "   array([2.06307953, 0.73690357]),\n",
       "   array([2.05283193, 0.73460318]),\n",
       "   array([2.05508895, 0.74153071]),\n",
       "   array([2.05887201, 0.74250395]),\n",
       "   array([2.05418729, 0.74326326]),\n",
       "   array([2.05604341, 0.74173727]),\n",
       "   array([2.05467272, 0.74064729]),\n",
       "   array([2.05370538, 0.74078114]),\n",
       "   array([2.05506777, 0.74036031]),\n",
       "   array([2.05443873, 0.74071693]),\n",
       "   array([2.05479309, 0.7408597 ]),\n",
       "   array([2.05488952, 0.74083322]),\n",
       "   array([2.05480633, 0.74090791]),\n",
       "   array([2.05475494, 0.74076726])],\n",
       "  'energy': [19.023437500000004,\n",
       "   -2.7050781250000013,\n",
       "   2.2692871093749982,\n",
       "   6.9445800781249964,\n",
       "   -11.090087890624998,\n",
       "   1.328125,\n",
       "   -1.2939453125000007,\n",
       "   17.410888671875007,\n",
       "   -6.912841796875,\n",
       "   2.5976562499999893,\n",
       "   -5.319824218750002,\n",
       "   25.532226562500004,\n",
       "   -19.84375,\n",
       "   1.9921875000000036,\n",
       "   -20.19287109375,\n",
       "   -3.7145996093749982,\n",
       "   -5.723876953125003,\n",
       "   -19.642333984375004,\n",
       "   -22.768554687499993,\n",
       "   -18.856201171874996,\n",
       "   -12.921142578125,\n",
       "   -25.168457031250004,\n",
       "   -24.57275390625,\n",
       "   -23.168945312499993,\n",
       "   -24.165039062500004,\n",
       "   -25.487060546875,\n",
       "   -23.983154296875,\n",
       "   -24.488525390625007,\n",
       "   -24.490966796874993,\n",
       "   -25.731201171875,\n",
       "   -25.374755859375,\n",
       "   -24.294433593749986,\n",
       "   -22.4462890625],\n",
       "  'std': [1.1259475234456608,\n",
       "   0.8992403462693382,\n",
       "   0.9191117491900888,\n",
       "   1.0952640873699955,\n",
       "   0.7642046688401017,\n",
       "   0.9688565441731709,\n",
       "   0.7202446798028239,\n",
       "   0.9880548221459043,\n",
       "   0.7495278796616923,\n",
       "   1.0547307455945492,\n",
       "   1.0256867630386448,\n",
       "   1.2038279343430267,\n",
       "   0.7821249830414543,\n",
       "   1.0499713676670013,\n",
       "   0.7742077552760718,\n",
       "   1.0114633299171671,\n",
       "   0.9957893311042902,\n",
       "   0.8448081625500742,\n",
       "   0.7556892733898921,\n",
       "   0.7918043805740121,\n",
       "   0.8565370087212846,\n",
       "   0.7301944434808849,\n",
       "   0.7605764640796071,\n",
       "   0.7765143314259944,\n",
       "   0.7157328019214856,\n",
       "   0.7371779238471635,\n",
       "   0.7358838435908626,\n",
       "   0.7283175295905421,\n",
       "   0.7396441331505265,\n",
       "   0.7254471380930445,\n",
       "   0.7202401832339718,\n",
       "   0.7277287160616726,\n",
       "   0.749658590008078]},\n",
       " 'inputs': {'operator': [['IIIZ', (17.5+0j)],\n",
       "   ['IIZI', (-10+0j)],\n",
       "   ['IZII', (12.5+0j)],\n",
       "   ['ZIII', (25+0j)],\n",
       "   ['IIZZ', (37.5+0j)],\n",
       "   ['IZIZ', (30+0j)],\n",
       "   ['IZZI', (37.5+0j)],\n",
       "   ['ZIIZ', (30+0j)],\n",
       "   ['ZIZI', (30+0j)],\n",
       "   ['ZZII', (20+0j)]],\n",
       "  'initial_point': [0.523437170109852, 0.8185389929990746],\n",
       "  'use_initial_mapping': False,\n",
       "  'reps': 1,\n",
       "  'optimizer': {'__class__.__name__': 'COBYLA',\n",
       "   '__class__': \"<class 'qiskit.algorithms.optimizers.cobyla.COBYLA'>\",\n",
       "   'settings': {'maxiter': 1000,\n",
       "    'disp': False,\n",
       "    'rhobeg': 1,\n",
       "    'max_evals_grouped': 1,\n",
       "    'options': {},\n",
       "    'tol': None}},\n",
       "  'shots': 8192,\n",
       "  'alpha': 1,\n",
       "  'measurement_error_mitigation': False,\n",
       "  'use_swap_strategies': False,\n",
       "  'use_pulse_efficient': False,\n",
       "  'optimization_level': 1}}"
      ]
     },
     "execution_count": 25,
     "metadata": {},
     "output_type": "execute_result"
    }
   ],
   "source": [
    "result = job.result()\n",
    "result"
   ]
  },
  {
   "cell_type": "markdown",
   "metadata": {
    "slideshow": {
     "slide_type": "slide"
    }
   },
   "source": [
    "Da die Ausgabe relativ kryptisch ist, sollte diese noch besser aufbereitet werden:"
   ]
  },
  {
   "cell_type": "code",
   "execution_count": 26,
   "metadata": {
    "slideshow": {
     "slide_type": "skip"
    }
   },
   "outputs": [],
   "source": [
    "# Hilfsfunktionen von IBM\n",
    "\n",
    "from collections import defaultdict\n",
    "\n",
    "def get_cost(bit_str: str) -> float:\n",
    "    \"\"\"Return the cost value of the bit string.\"\"\"\n",
    "    n, x = len(bit_str), [int(bit) for bit in bit_str[::-1]]\n",
    "    cost = 0.0\n",
    "    if sum(x)==2:\n",
    "        for i in range(n):\n",
    "            cost+=b[i]* x[i]\n",
    "        for i in range(n):\n",
    "            for j in range(n):\n",
    "                if i != j:\n",
    "                    cost+=np.array(C)[i,j]*x[i]*x[j]  \n",
    "    return -cost\n",
    "\n",
    "\n",
    "def get_port_distribution(result) -> dict:\n",
    "    \"\"\"Extract the port distribution from the result.\n",
    "\n",
    "    Returns:\n",
    "        A dict of port value: probability.\n",
    "    \"\"\"\n",
    "\n",
    "    state_results = []\n",
    "    for bit_str, amp in result[\"eigenstate\"].items():\n",
    "        state_results.append((bit_str, get_cost(bit_str), amp ** 2 * 100))        \n",
    "   \n",
    "    vals = defaultdict(int)\n",
    "    vals1 = defaultdict(int)\n",
    "    for res in state_results:\n",
    "        #vals[res[1]] += res[2]\n",
    "        vals[res[1]] = [res[0], res[2]]\n",
    "    for res in state_results:\n",
    "        vals1[res[1]] += res[2]\n",
    "    return dict(vals), dict(vals1)"
   ]
  },
  {
   "cell_type": "code",
   "execution_count": 27,
   "metadata": {
    "slideshow": {
     "slide_type": "slide"
    }
   },
   "outputs": [],
   "source": [
    "dic2,dic3 = get_port_distribution(result)"
   ]
  },
  {
   "cell_type": "markdown",
   "metadata": {
    "slideshow": {
     "slide_type": "slide"
    }
   },
   "source": [
    "Gefundene Lösungen und ihre Wahrscheinlichkeiten (in Prozent):"
   ]
  },
  {
   "cell_type": "code",
   "execution_count": 28,
   "metadata": {
    "slideshow": {
     "slide_type": "slide"
    }
   },
   "outputs": [
    {
     "data": {
      "text/plain": [
       "{-0.0: 59.41162109375,\n",
       " -30.0: 4.211425781250001,\n",
       " -70.0: 9.19189453125,\n",
       " -80.0: 14.770507812500004,\n",
       " -40.0: 8.3984375,\n",
       " -90.0: 4.016113281249999}"
      ]
     },
     "execution_count": 28,
     "metadata": {},
     "output_type": "execute_result"
    }
   ],
   "source": [
    "dic3"
   ]
  },
  {
   "cell_type": "markdown",
   "metadata": {
    "slideshow": {
     "slide_type": "slide"
    }
   },
   "source": [
    "Optimale Lösung und optimaler Bitstring:"
   ]
  },
  {
   "cell_type": "code",
   "execution_count": 29,
   "metadata": {
    "slideshow": {
     "slide_type": "slide"
    }
   },
   "outputs": [
    {
     "name": "stdout",
     "output_type": "stream",
     "text": [
      "-90.0\n",
      "0011\n"
     ]
    }
   ],
   "source": [
    "max_value=min(dic2, key=(lambda k: dic2[k] and k))\n",
    "\n",
    "print(max_value)\n",
    "print(dic2[max_value][0][::-1])"
   ]
  },
  {
   "cell_type": "code",
   "execution_count": 30,
   "metadata": {
    "slideshow": {
     "slide_type": "slide"
    }
   },
   "outputs": [
    {
     "name": "stdout",
     "output_type": "stream",
     "text": [
      "59.41162109375\n",
      "4.211425781250001\n",
      "9.19189453125\n",
      "14.770507812500004\n",
      "8.3984375\n",
      "4.016113281249999\n",
      "-----------------------------\n",
      "100.0\n",
      "0.7202379381334458\n"
     ]
    }
   ],
   "source": [
    "f_best=-130\n",
    "f_worst=240\n",
    "\n",
    "uu=0\n",
    "r=0\n",
    "for i in dic3.keys():\n",
    "   r+=(i-f_worst)*dic3[i]/(f_best-f_worst)\n",
    "   print(dic3[i])\n",
    "   uu+=dic3[i]\n",
    "print('-----------------------------')    \n",
    "print(uu)    \n",
    "print(r/uu)  "
   ]
  },
  {
   "cell_type": "code",
   "execution_count": 31,
   "metadata": {
    "slideshow": {
     "slide_type": "slide"
    }
   },
   "outputs": [
    {
     "data": {
      "text/plain": [
       "Text(0, 0.5, 'Probability')"
      ]
     },
     "execution_count": 31,
     "metadata": {},
     "output_type": "execute_result"
    },
    {
     "data": {
      "image/png": "[encoded data removed]",
      "text/plain": [
       "<Figure size 1400x500 with 2 Axes>"
      ]
     },
     "metadata": {},
     "output_type": "display_data"
    }
   ],
   "source": [
    "import matplotlib.pyplot as plt\n",
    "\n",
    "_,port_vals = get_port_distribution(result)\n",
    "\n",
    "fig, axs = plt.subplots(1, 2, figsize=(14, 5))\n",
    "axs[0].plot(result[\"optimizer_history\"][\"energy\"])\n",
    "axs[1].bar(list(port_vals.keys()), list(port_vals.values()))\n",
    "axs[0].set_xlabel(\"Energy evaluation number\")\n",
    "axs[0].set_ylabel(\"Energy\")\n",
    "axs[1].set_xlabel(\"Value\")\n",
    "axs[1].set_ylabel(\"Probability\")"
   ]
  },
  {
   "cell_type": "code",
   "execution_count": null,
   "metadata": {},
   "outputs": [],
   "source": []
  }
 ],
 "metadata": {
  "celltoolbar": "Slideshow",
  "colab": {
   "authorship_tag": "ABX9TyNPU0qr9jBl6hF63uYlflVk",
   "collapsed_sections": [],
   "include_colab_link": true,
   "name": "Quantennachmittage",
   "provenance": []
  },
  "kernelspec": {
   "display_name": "Python 3 (ipykernel)",
   "language": "python",
   "name": "python3"
  },
  "language_info": {
   "codemirror_mode": {
    "name": "ipython",
    "version": 3
   },
   "file_extension": ".py",
   "mimetype": "text/x-python",
   "name": "python",
   "nbconvert_exporter": "python",
   "pygments_lexer": "ipython3",
   "version": "3.8.8"
  }
 },
 "nbformat": 4,
 "nbformat_minor": 1
}
