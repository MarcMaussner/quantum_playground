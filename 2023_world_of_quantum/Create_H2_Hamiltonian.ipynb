{
 "cells": [
  {
   "cell_type": "markdown",
   "id": "9584d5fc",
   "metadata": {},
   "source": [
    "# References\n",
    "- https://qiskit.org/ecosystem/nature/migration/0.5_c_electronic_structure.html\n",
    "- https://learn.qiskit.org/course/ch-applications/simulating-molecules-using-vqe"
   ]
  },
  {
   "cell_type": "code",
   "execution_count": 45,
   "id": "116338ee",
   "metadata": {},
   "outputs": [
    {
     "name": "stdout",
     "output_type": "stream",
     "text": [
      "Fermionic Operator\n",
      "register length=4, number terms=36\n",
      "  -1.25633907300325 * ( +_0 -_0 )\n",
      "+ -0.47189600728114184 * ( +_1 -_1 )\n",
      "+ -1.25633907300325 * ( +_2 -_2 )\n",
      "+ -0.47189600728114184 * ( +_3 -_3 )\n",
      "+ -0.33785507740175813 * ( +_0 +_0 -_0 -_0 )\n",
      "+ -0.0904 ...\n"
     ]
    }
   ],
   "source": [
    "from qiskit_nature.drivers import Molecule\n",
    "from qiskit_nature.drivers.second_quantization import (\n",
    "    ElectronicStructureDriverType,\n",
    "    ElectronicStructureMoleculeDriver,\n",
    "    PySCFDriver,\n",
    ")\n",
    "from qiskit.algorithms import VQE\n",
    "from qiskit import BasicAer\n",
    "from qiskit_nature.problems.second_quantization import ElectronicStructureProblem\n",
    "from qiskit_nature.transformers.second_quantization.electronic import FreezeCoreTransformer\n",
    "from qiskit_nature.settings import settings\n",
    "from qiskit_nature.mappers.second_quantization import ParityMapper\n",
    "from qiskit_nature.converters.second_quantization import QubitConverter\n",
    "from qiskit.opflow import TwoQubitReduction\n",
    "from qiskit_nature.circuit.library import UCCSD, HartreeFock\n",
    "\n",
    "import numpy as np\n",
    "import matplotlib.pyplot as plt\n",
    "\n",
    "settings.dict_aux_operators = True\n",
    "\n",
    "molecule = Molecule(\n",
    "    geometry=[[\"H\", [0.0, 0.0, 0.0]], [\"H\", [0.0, 0.0, 0.735]]], charge=0, multiplicity=1\n",
    ")\n",
    "\n",
    "driver = ElectronicStructureMoleculeDriver(\n",
    "    molecule, basis=\"sto3g\", driver_type=ElectronicStructureDriverType.PYSCF\n",
    ")\n",
    "# or equivalently:\n",
    "#driver = PySCFDriver.from_molecule(molecule, basis=\"sto3g\")\n",
    "\n",
    "properties = driver.run()\n",
    "num_particles = (properties\n",
    "                .get_property(\"ParticleNumber\")\n",
    "                .num_particles)\n",
    "num_spin_orbitals = int(properties\n",
    "                        .get_property(\"ParticleNumber\")\n",
    "                        .num_spin_orbitals)\n",
    "\n",
    "transformer = FreezeCoreTransformer()\n",
    "\n",
    "problem = ElectronicStructureProblem(driver, transformers=[transformer])\n",
    "\n",
    "# Note: at this point, `driver.run()` has NOT been called yet. We can trigger this indirectly like so:\n",
    "second_q_ops = problem.second_q_ops()\n",
    "\n",
    "hamiltonian = second_q_ops[\"ElectronicEnergy\"]\n",
    "\n",
    "num_spin_orbitals = problem.num_spin_orbitals\n",
    "num_particles = problem.num_particles\n",
    "\n",
    "converter = QubitConverter(mapper, two_qubit_reduction=True)\n",
    "#reducer = TwoQubitReduction(num_particles)\n",
    "qubit_op = converter.convert(hamiltonian)\n",
    "#qubit_op = reducer.convert(qubit_op)\n",
    "\n",
    "mapper = ParityMapper()\n",
    "\n",
    "print(hamiltonian)"
   ]
  },
  {
   "cell_type": "code",
   "execution_count": 46,
   "id": "8ea52409",
   "metadata": {},
   "outputs": [
    {
     "name": "stdout",
     "output_type": "stream",
     "text": [
      "4   (1, 1)\n",
      "VQE Result: -1.13731\n",
      "All energies have been calculated\n"
     ]
    }
   ],
   "source": [
    "backend = BasicAer.get_backend(\"statevector_simulator\")\n",
    "\n",
    "vqe_energies = []\n",
    "optimizer = SLSQP(maxiter=100)\n",
    "\n",
    "print(num_spin_orbitals, \" \", num_particles)\n",
    "init_state = HartreeFock(num_spin_orbitals, num_particles, converter)\n",
    "ansatz = UCCSD(\n",
    "    converter, num_particles, num_spin_orbitals, initial_state=init_state\n",
    ")\n",
    "vqe = VQE(\n",
    "    ansatz,\n",
    "    optimizer,\n",
    "    quantum_instance=backend\n",
    ")\n",
    "vqe_calc = vqe.compute_minimum_eigenvalue(qubit_op)\n",
    "vqe_result = problem.interpret(vqe_calc).total_energies[0].real\n",
    "vqe_energies.append(vqe_result)\n",
    "\n",
    "print(\n",
    "    f\"VQE Result: {vqe_result:.5f}\"\n",
    ")\n",
    "\n",
    "print(\"All energies have been calculated\")"
   ]
  },
  {
   "cell_type": "code",
   "execution_count": 2,
   "id": "4b46b9cc",
   "metadata": {},
   "outputs": [
    {
     "data": {
      "text/html": [
       "<h3>Version Information</h3><table><tr><th>Qiskit Software</th><th>Version</th></tr><tr><td><code>qiskit-terra</code></td><td>0.22.4</td></tr><tr><td><code>qiskit-aer</code></td><td>0.11.2</td></tr><tr><td><code>qiskit-ibmq-provider</code></td><td>0.19.2</td></tr><tr><td><code>qiskit</code></td><td>0.39.5</td></tr><tr><td><code>qiskit-nature</code></td><td>0.6.0</td></tr><tr><td><code>qiskit-optimization</code></td><td>0.5.0</td></tr><tr><td><code>qiskit-machine-learning</code></td><td>0.6.0</td></tr><tr><th>System information</th></tr><tr><td>Python version</td><td>3.10.9</td></tr><tr><td>Python compiler</td><td>GCC 11.2.0</td></tr><tr><td>Python build</td><td>main, Jan 11 2023 15:21:40</td></tr><tr><td>OS</td><td>Linux</td></tr><tr><td>CPUs</td><td>4</td></tr><tr><td>Memory (Gb)</td><td>3.831592559814453</td></tr><tr><td colspan='2'>Tue Jun 27 18:18:39 2023 UTC</td></tr></table>"
      ],
      "text/plain": [
       "<IPython.core.display.HTML object>"
      ]
     },
     "metadata": {},
     "output_type": "display_data"
    }
   ],
   "source": [
    "import qiskit.tools.jupyter\n",
    "\n",
    "%qiskit_version_table"
   ]
  },
  {
   "cell_type": "code",
   "execution_count": null,
   "id": "5401633a",
   "metadata": {},
   "outputs": [],
   "source": []
  }
 ],
 "metadata": {
  "kernelspec": {
   "display_name": "Python 3 (ipykernel)",
   "language": "python",
   "name": "python3"
  },
  "language_info": {
   "codemirror_mode": {
    "name": "ipython",
    "version": 3
   },
   "file_extension": ".py",
   "mimetype": "text/x-python",
   "name": "python",
   "nbconvert_exporter": "python",
   "pygments_lexer": "ipython3",
   "version": "3.10.9"
  }
 },
 "nbformat": 4,
 "nbformat_minor": 5
}
