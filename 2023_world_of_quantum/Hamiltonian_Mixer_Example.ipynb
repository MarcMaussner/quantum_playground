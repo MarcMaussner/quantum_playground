{
 "cells": [
  {
   "attachments": {},
   "cell_type": "markdown",
   "id": "ce85d1aa-2916-40c2-b0b6-f9f0a773a3fa",
   "metadata": {
    "slideshow": {
     "slide_type": "-"
    }
   },
   "source": [
    "## Using Clifford algebra to reduce the circuit depth for generating Hamiltonian eigenstates \n",
    "\n",
    "\n",
    "*Marc Maußner, Thierry Kaldenbach, Raphael Kopp & Lea Marlen Rektorschek*\n",
    "\n",
    "## Introduction:\n",
    "\n",
    "Explain why you have chosen this topic. Why is it interesting? What makes it hard to solve?\n",
    "\n",
    "The Hamiltonian mixer approach is a technique used in quantum computing to encode and manipulate information within a quantum system.\n",
    "This approach is particularly useful in the context of chemistry and material science, where the Hamiltonian mixer is utilized to evolve the system gradually towards a desired state $H_0$ that represents the solution to a given hard-to solve problem. [1]\n",
    "To do so, we define our simulation Hamiltonian like this: <br>\n",
    "$H = s(t) H_0 + (1-s(t)) H_{mixer}$, where $s$ is the coupling strength between $H_0$ and $H_{mixer}$, $H_0$ defines the Hamiltonian ground state we want to know and  $H_{mixer}$ is the hamiltonian to adiabatically evolve to $H_0$. \n",
    "The gradual transformation of $H_{mixer} \\Rightarrow H_0$ is done by increasing $s$ over time. Due to the adiabatic theorem, we can start with the efficent to prepare groundstate of $H_{mixer}$ and evolve it over time to obtain the groundstate of $H_0$:\n",
    "$|\\Psi (t) \\> = \\exp (-i/2 H (t - \\tilde t)) |\\Psi (\\tilde t) \\>$.\n",
    "\n",
    "To run this on a quantum device, the evolution of $s$ is discretized to timesteps $\\Delta t$. \n",
    "\n",
    "\n",
    "The Gottesman-Knill theorem states that a specific type of quantum circuits called stabilizer circuits can be efficiently simulated on a classical computer.\n",
    "Stabilizer circuits are circuits based on Clifford gates including the generators $CNOT, H, S$. \n",
    "\n",
    "\n",
    "## Idea\n",
    "\n",
    "\n",
    "Explain what your idea is. Whats your approach in tackling this problem. Explain in detail the general idea, the steps and also why this should lead to a better solution\n",
    "- With number of gates, fidelity decreasing\n",
    "\n",
    "## Solution\n",
    "\n",
    "### \"Naive\"/default solution\n",
    "\n",
    "Describe how the naive solution is implemented. If the default solution already has some optimization in it, explain what it is.\n",
    "And then implement the solution in code. Explain what parameters can be changed in the code below.\n",
    "\n",
    "[1]: Berry, D.W., Kieferová, M., Scherer, A. et al. Improved techniques for preparing eigenstates of fermionic Hamiltonians. npj Quantum Inf 4, 22 (2018). https://doi.org/10.1038/s41534-018-0071-5 <br>\n",
    "[2]: Anders, S. and Briegel, H. J., “Fast simulation of stabilizer circuits using a graph-state representation”, Physical Review A, vol. 73, no. 2, 2006. doi:10.1103/PhysRevA.73.022334 \n"
   ]
  },
  {
   "cell_type": "code",
   "execution_count": 1,
   "id": "c5d10dc4-08ba-4b1e-bbb7-9fc9caec4154",
   "metadata": {
    "slideshow": {
     "slide_type": "-"
    },
    "tags": []
   },
   "outputs": [],
   "source": [
    "# Importing all the parts we will need.\n",
    "from qiskit import transpile, QuantumCircuit, QuantumRegister, ClassicalRegister, Aer\n",
    "from qiskit.visualization import plot_histogram, plot_gate_map\n",
    "from qiskit_optimization.applications import Tsp\n",
    "from qiskit.algorithms.minimum_eigensolvers import NumPyMinimumEigensolver\n",
    "from qiskit.algorithms.optimizers import COBYLA\n",
    "from qiskit.utils import algorithm_globals\n",
    "from qiskit_optimization.converters import QuadraticProgramToQubo\n",
    "from qiskit_optimization.algorithms import MinimumEigenOptimizer\n",
    "from qiskit.utils import QuantumInstance\n",
    "from qiskit.algorithms import QAOA\n",
    "from qiskit.circuit import Parameter\n",
    "\n",
    "import warnings\n",
    "import matplotlib.pyplot as plt\n",
    "import networkx as nx\n",
    "import numpy as np\n",
    "\n",
    "warnings.filterwarnings(\"ignore\")\n",
    "\n",
    "import math\n",
    "\n",
    "pi = math.pi"
   ]
  },
  {
   "attachments": {},
   "cell_type": "markdown",
   "id": "0e38e214",
   "metadata": {},
   "source": [
    "## \"Naive\"/default solution and motivation for our problem\n",
    "\n",
    "For quantum simulation\n",
    "\n",
    "\n",
    "We use a simple graph with three nodes for Traveling-Salesman-Problem (TSP) as basic introductory example based on https://github.com/qiskit-community/qiskit-optimization/blob/stable/0.5/docs/tutorials/06_examples_max_cut_and_tsp.ipynb\n",
    "\n",
    "This is done by mapping our TSP to the Ising model to optimize it with a Quadratic Unconstrained Binary Optimization (QUBO) and finally solve it with the Quantum Approximate Optimization Algorithm (QAOA). \n"
   ]
  },
  {
   "cell_type": "code",
   "execution_count": 3,
   "id": "befa5cc1",
   "metadata": {},
   "outputs": [],
   "source": [
    "#Definition of utils functions\n",
    "\n",
    "def draw_graph(G, colors, pos):\n",
    "    \"\"\"\n",
    "    Draws graph without ordering\n",
    "\n",
    "    Parameters\n",
    "    ----------\n",
    "    G : graph\n",
    "        The graph to draw\n",
    "    colors : str\n",
    "        color from nodes in graph\n",
    "    pos : list of tuples\n",
    "        position from nodes in graph\n",
    "\n",
    "    Returns\n",
    "    -------\n",
    "    nothing\n",
    "\n",
    "    \"\"\"\n",
    "    default_axes = plt.axes(frameon=True)\n",
    "    nx.draw_networkx(G, node_color=colors, node_size=600, alpha=0.8, ax=default_axes, pos=pos)\n",
    "    edge_labels = nx.get_edge_attributes(G, \"weight\")\n",
    "    nx.draw_networkx_edge_labels(G, pos=pos, edge_labels=edge_labels)\n",
    "\n",
    "def draw_tsp_solution(G, order, colors, pos):\n",
    "    \"\"\"\n",
    "    Draws graph with ordering\n",
    "\n",
    "    Parameters\n",
    "    ----------\n",
    "    G : graph\n",
    "        The graph to draw\n",
    "    order : list of int\n",
    "        List of edges of graph\n",
    "    colors : str\n",
    "        color from nodes in graph\n",
    "    pos : list of tuples\n",
    "        position from nodes in graph\n",
    "\n",
    "    Returns\n",
    "    -------\n",
    "    nothing\n",
    "\n",
    "    \"\"\"\n",
    "    G2 = nx.DiGraph()\n",
    "    G2.add_nodes_from(G)\n",
    "    n = len(order)\n",
    "    for i in range(n):\n",
    "        j = (i + 1) % n\n",
    "        G2.add_edge(order[i], order[j], weight=G[order[i]][order[j]][\"weight\"])\n",
    "    default_axes = plt.axes(frameon=True)\n",
    "    nx.draw_networkx(\n",
    "        G2, node_color=colors, edge_color=\"b\", node_size=600, alpha=0.8, ax=default_axes, pos=pos\n",
    "    )\n",
    "    edge_labels = nx.get_edge_attributes(G2, \"weight\")\n",
    "    nx.draw_networkx_edge_labels(G2, pos, font_color=\"b\", edge_labels=edge_labels)\n",
    "\n",
    "def print_result(result):\n",
    "    \"\"\"\n",
    "    Prints the optimal selection and distance of edges in graph\n",
    "\n",
    "    Parameters\n",
    "    ----------\n",
    "    result: \n",
    "        MinimumEigenOptimizationResult\n",
    "\n",
    "    Returns\n",
    "    -------\n",
    "    nothing\n",
    "\n",
    "    \"\"\"\n",
    "    selection = result.x\n",
    "    value = result.fval\n",
    "    print('Optimal: selection {}, value {:.4f}'.format(selection, value))\n"
   ]
  },
  {
   "cell_type": "code",
   "execution_count": 5,
   "id": "dedd1d36",
   "metadata": {},
   "outputs": [
    {
     "name": "stdout",
     "output_type": "stream",
     "text": [
      "distance\n",
      " [[ 0. 48. 91.]\n",
      " [48.  0. 63.]\n",
      " [91. 63.  0.]]\n"
     ]
    },
    {
     "data": {
      "image/png": "[encoded data removed]",
      "text/plain": [
       "<Figure size 640x480 with 1 Axes>"
      ]
     },
     "metadata": {},
     "output_type": "display_data"
    }
   ],
   "source": [
    "# Simple graph with three nodes for Traveling-Salesman-Problem (TSP) as basic introductory example\n",
    "# Generating a graph of 3 nodes\n",
    "n = 3 \n",
    "num_qubits = n**2\n",
    "tsp = Tsp.create_random_instance(n, seed=123)\n",
    "adj_matrix = nx.to_numpy_array(tsp.graph)\n",
    "print(\"distance\\n\", adj_matrix)\n",
    "\n",
    "colors = [\"r\" for node in tsp.graph.nodes]\n",
    "pos = [tsp.graph.nodes[node][\"pos\"] for node in tsp.graph.nodes]\n",
    "draw_graph(tsp.graph, colors, pos)"
   ]
  },
  {
   "cell_type": "code",
   "execution_count": 6,
   "id": "992a0792",
   "metadata": {},
   "outputs": [
    {
     "name": "stdout",
     "output_type": "stream",
     "text": [
      "Problem name: TSP\n",
      "\n",
      "Minimize\n",
      "  48*x_0_0*x_1_1 + 48*x_0_0*x_1_2 + 91*x_0_0*x_2_1 + 91*x_0_0*x_2_2\n",
      "  + 48*x_0_1*x_1_0 + 48*x_0_1*x_1_2 + 91*x_0_1*x_2_0 + 91*x_0_1*x_2_2\n",
      "  + 48*x_0_2*x_1_0 + 48*x_0_2*x_1_1 + 91*x_0_2*x_2_0 + 91*x_0_2*x_2_1\n",
      "  + 63*x_1_0*x_2_1 + 63*x_1_0*x_2_2 + 63*x_1_1*x_2_0 + 63*x_1_1*x_2_2\n",
      "  + 63*x_1_2*x_2_0 + 63*x_1_2*x_2_1\n",
      "\n",
      "Subject to\n",
      "  Linear constraints (6)\n",
      "    x_0_0 + x_0_1 + x_0_2 == 1  'c0'\n",
      "    x_1_0 + x_1_1 + x_1_2 == 1  'c1'\n",
      "    x_2_0 + x_2_1 + x_2_2 == 1  'c2'\n",
      "    x_0_0 + x_1_0 + x_2_0 == 1  'c3'\n",
      "    x_0_1 + x_1_1 + x_2_1 == 1  'c4'\n",
      "    x_0_2 + x_1_2 + x_2_2 == 1  'c5'\n",
      "\n",
      "  Binary variables (9)\n",
      "    x_0_0 x_0_1 x_0_2 x_1_0 x_1_1 x_1_2 x_2_0 x_2_1 x_2_2\n",
      "\n"
     ]
    }
   ],
   "source": [
    "#Mapping to Ising model\n",
    "qp = tsp.to_quadratic_program()\n",
    "print(qp.prettyprint())"
   ]
  },
  {
   "cell_type": "code",
   "execution_count": 7,
   "id": "73f2b8f8",
   "metadata": {},
   "outputs": [
    {
     "name": "stdout",
     "output_type": "stream",
     "text": [
      "Offset: 7581.0\n",
      "Ising Hamiltonian:\n",
      "-1282.5 * IIIIIIIIZ\n",
      "- 1282.5 * IIIIIIIZI\n",
      "- 1282.5 * IIIIIIZII\n",
      "- 1268.5 * IIIIIZIII\n",
      "- 1268.5 * IIIIZIIII\n",
      "- 1268.5 * IIIZIIIII\n",
      "- 1290.0 * IIZIIIIII\n",
      "- 1290.0 * IZIIIIIII\n",
      "- 1290.0 * ZIIIIIIII\n",
      "+ 606.5 * IIIIIIIZZ\n",
      "+ 606.5 * IIIIIIZIZ\n",
      "+ 606.5 * IIIIIIZZI\n",
      "+ 606.5 * IIIIIZIIZ\n",
      "+ 12.0 * IIIIIZIZI\n",
      "+ 12.0 * IIIIIZZII\n",
      "+ 12.0 * IIIIZIIIZ\n",
      "+ 606.5 * IIIIZIIZI\n",
      "+ 12.0 * IIIIZIZII\n",
      "+ 606.5 * IIIIZZIII\n",
      "+ 12.0 * IIIZIIIIZ\n",
      "+ 12.0 * IIIZIIIZI\n",
      "+ 606.5 * IIIZIIZII\n",
      "+ 606.5 * IIIZIZIII\n",
      "+ 606.5 * IIIZZIIII\n",
      "+ 606.5 * IIZIIIIIZ\n",
      "+ 22.75 * IIZIIIIZI\n",
      "+ 22.75 * IIZIIIZII\n",
      "+ 606.5 * IIZIIZIII\n",
      "+ 15.75 * IIZIZIIII\n",
      "+ 15.75 * IIZZIIIII\n",
      "+ 22.75 * IZIIIIIIZ\n",
      "+ 606.5 * IZIIIIIZI\n",
      "+ 22.75 * IZIIIIZII\n",
      "+ 15.75 * IZIIIZIII\n",
      "+ 606.5 * IZIIZIIII\n",
      "+ 15.75 * IZIZIIIII\n",
      "+ 606.5 * IZZIIIIII\n",
      "+ 22.75 * ZIIIIIIIZ\n",
      "+ 22.75 * ZIIIIIIZI\n",
      "+ 606.5 * ZIIIIIZII\n",
      "+ 15.75 * ZIIIIZIII\n",
      "+ 15.75 * ZIIIZIIII\n",
      "+ 606.5 * ZIIZIIIII\n",
      "+ 606.5 * ZIZIIIIII\n",
      "+ 606.5 * ZZIIIIIII\n"
     ]
    }
   ],
   "source": [
    "#convert to qubo (quadratic unconstrained binary optimization)\n",
    "qp2qubo = QuadraticProgramToQubo()\n",
    "qubo = qp2qubo.convert(qp)\n",
    "#convert to Ising model\n",
    "qubitOp, offset = qubo.to_ising()\n",
    "print(\"Offset:\", offset)\n",
    "print(\"Ising Hamiltonian:\")\n",
    "print(str(qubitOp))"
   ]
  },
  {
   "cell_type": "code",
   "execution_count": 8,
   "id": "a11398af",
   "metadata": {},
   "outputs": [
    {
     "name": "stdout",
     "output_type": "stream",
     "text": [
      "objective function value: 202.0\n",
      "variable values: x_0_0=1.0, x_0_1=0.0, x_0_2=0.0, x_1_0=0.0, x_1_1=1.0, x_1_2=0.0, x_2_0=0.0, x_2_1=0.0, x_2_2=1.0\n",
      "status: SUCCESS\n"
     ]
    }
   ],
   "source": [
    "#classical computation of exact solution \n",
    "exact = MinimumEigenOptimizer(NumPyMinimumEigensolver())\n",
    "result = exact.solve(qubo)\n",
    "print(result.prettyprint())"
   ]
  },
  {
   "attachments": {},
   "cell_type": "markdown",
   "id": "bf50afc3",
   "metadata": {},
   "source": [
    "# Define qaoa (reference Prof. Dr. Gerhard Hellstern, HPI)\n",
    "Starte mit einem parametrisierten Ansatz $| \\Psi (\\alpha, \\beta, \\gamma ...) \\rangle$ und variere die Parameter so lange, bis das Minimum erreicht ist. Das ist die allg. Idee der sog. \"Variationellen Quantenalgorithmen (VQA)\".\n",
    "\n",
    "* QAOA ist ein Spezialfall davon; hier macht man keinen möglichst allgemeinen Ansatz (mit vielen Parametern ...), sondern lässt sich beim Ansatz durch die Physik inspirieren:\n",
    "\n",
    "* Motiviert durch das \"Adiabatentheorem\" (ein System bei dem man Änderungen nur langsam genug vornimmt bleibt immer in seinem Grundzustand) wird schliesslich bei QAOA folgender Ansatz gemacht:\n",
    "\n",
    "$$ H_{final} = \\alpha H_{mixer} + \\beta H_{Ising}$$ mit $$ H_{mixer}=\\sum_i {\\hat\\sigma_{x}^{(i)}}$$"
   ]
  },
  {
   "cell_type": "code",
   "execution_count": 10,
   "id": "6c9c6ce4",
   "metadata": {},
   "outputs": [
    {
     "name": "stdout",
     "output_type": "stream",
     "text": [
      "fval=202.0, x_0_0=0.0, x_0_1=0.0, x_0_2=1.0, x_1_0=0.0, x_1_1=1.0, x_1_2=0.0, x_2_0=1.0, x_2_1=0.0, x_2_2=0.0, status=SUCCESS\n",
      "Optimal: selection [0. 0. 1. 0. 1. 0. 1. 0. 0.], value 202.0000\n"
     ]
    }
   ],
   "source": [
    "#convert to qaoa\n",
    "algorithm_globals.random_seed = 1234\n",
    "backend = Aer.get_backend('statevector_simulator')\n",
    "quantum_instance = QuantumInstance(backend=backend, seed_simulator=123, seed_transpiler=123)\n",
    "\n",
    "#prepare mixer\n",
    "beta = Parameter(\"β\")\n",
    "mixer = QuantumCircuit(n**2)\n",
    "for i in range(n**2):\n",
    "    mixer.rx(beta, i)\n",
    "\n",
    "#build up qaoa with mixer and solve qaoa\n",
    "cobyla = COBYLA()\n",
    "cobyla.set_options(maxiter=250)\n",
    "qaoa_mes = QAOA(optimizer=cobyla, reps=1, mixer=mixer, quantum_instance=quantum_instance)\n",
    "qaoa = MinimumEigenOptimizer(qaoa_mes)\n",
    "result_sv = qaoa.solve(qubo)\n",
    "\n",
    "print_result(result_sv)"
   ]
  },
  {
   "cell_type": "code",
   "execution_count": 13,
   "id": "b684a1ba",
   "metadata": {},
   "outputs": [],
   "source": [
    "#qaoa_mes.ansatz.decompose().draw('mpl')"
   ]
  },
  {
   "attachments": {},
   "cell_type": "markdown",
   "id": "bf19bd63-d166-41f7-87e3-f4df3776f5e2",
   "metadata": {
    "slideshow": {
     "slide_type": "-"
    }
   },
   "source": [
    "### Your solution\n",
    "\n",
    "Explain which paramateres can be changed in the code below, how to get different results."
   ]
  },
  {
   "cell_type": "code",
   "execution_count": 28,
   "id": "7cdc5fe7-ae31-43e1-8c9f-3680c2182523",
   "metadata": {
    "slideshow": {
     "slide_type": "-"
    },
    "tags": []
   },
   "outputs": [],
   "source": [
    "\n",
    "# Your code here: Implementation of the good solution"
   ]
  },
  {
   "attachments": {},
   "cell_type": "markdown",
   "id": "890eaf59-b8b9-45a6-9e8d-aadb27eb9c0f",
   "metadata": {
    "slideshow": {
     "slide_type": "-"
    }
   },
   "source": [
    "## Results\n",
    "\n",
    "Analyse both solutions the naive and yours, and show what is better.\n",
    "This can both be done theoretically (like Big O notation) or also some concrete results.\n",
    "If possible show below some graphs to compare the 2 solutions helping to explain what makes your solution so good."
   ]
  },
  {
   "cell_type": "code",
   "execution_count": null,
   "id": "b2541952-c14f-4546-aa4b-c5141add1f68",
   "metadata": {
    "slideshow": {
     "slide_type": "-"
    },
    "tags": []
   },
   "outputs": [],
   "source": [
    "\n",
    "# Your code here: Use code to show graphs"
   ]
  }
 ],
 "metadata": {
  "kernelspec": {
   "display_name": "Python 3 (ipykernel)",
   "language": "python",
   "name": "python3"
  },
  "language_info": {
   "codemirror_mode": {
    "name": "ipython",
    "version": 3
   },
   "file_extension": ".py",
   "mimetype": "text/x-python",
   "name": "python",
   "nbconvert_exporter": "python",
   "pygments_lexer": "ipython3",
   "version": "3.9.5"
  },
  "widgets": {
   "application/vnd.jupyter.widget-state+json": {
    "state": {},
    "version_major": 2,
    "version_minor": 0
   }
  }
 },
 "nbformat": 4,
 "nbformat_minor": 5
}
