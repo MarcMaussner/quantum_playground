{
 "cells": [
  {
   "cell_type": "markdown",
   "id": "ce85d1aa-2916-40c2-b0b6-f9f0a773a3fa",
   "metadata": {
    "slideshow": {
     "slide_type": "-"
    }
   },
   "source": [
    "# Title of your Work\n",
    "\n",
    "\n",
    "*Teammembers*\n",
    "\n",
    "## Introduction:\n",
    "\n",
    "Explain why you have chosen this topic. Why is it interesting? What makes it hard to solve?\n",
    "\n",
    "\n",
    "\n",
    "## Idea\n",
    "\n",
    "\n",
    "Explain what your idea is. Whats your approach in tackling this problem. Explain in detail the general idea, the steps and also why this should lead to a better solution\n",
    "\n",
    "\n",
    "## Solution\n",
    "\n",
    "### \"Naive\"/default solution\n",
    "\n",
    "Describe how the naive solution is implemented. If the default solution already has some optimization in it, explain what it is.\n",
    "And then implement the solution in code. Explain what parameters can be changed in the code below."
   ]
  },
  {
   "cell_type": "code",
   "execution_count": 1,
   "id": "c5d10dc4-08ba-4b1e-bbb7-9fc9caec4154",
   "metadata": {
    "slideshow": {
     "slide_type": "-"
    },
    "tags": []
   },
   "outputs": [],
   "source": [
    "# Importing all the parts we will need.\n",
    "from typing import List, Optional\n",
    "\n",
    "from qiskit import transpile, QuantumCircuit, QuantumRegister, ClassicalRegister, Aer\n",
    "from qiskit.providers.fake_provider import FakeManilaV2, FakeMumbaiV2\n",
    "from qiskit.visualization import plot_histogram, plot_gate_map\n",
    "from qiskit_optimization.applications import Tsp\n",
    "import matplotlib.pyplot as plt\n",
    "import networkx as nx\n",
    "import numpy as np\n",
    "\n",
    "from qiskit.circuit.library import TwoLocal\n",
    "from qiskit.algorithms.minimum_eigensolvers import SamplingVQE, NumPyMinimumEigensolver\n",
    "from qiskit.algorithms.optimizers import SPSA, COBYLA\n",
    "from qiskit.utils import algorithm_globals, QuantumInstance\n",
    "from qiskit_optimization.converters import QuadraticProgramToQubo\n",
    "from qiskit_optimization.algorithms import MinimumEigenOptimizer\n",
    "from qiskit.primitives import Sampler\n",
    "from qiskit.algorithms import QAOA\n",
    "\n",
    "import warnings\n",
    "\n",
    "warnings.filterwarnings(\"ignore\")\n",
    "\n",
    "import math\n",
    "\n",
    "pi = math.pi\n",
    "\n",
    "\n",
    "# reference: E´Combarro, Elias, Samuel Gonzalez-Castillo, and Alberto di Meglio. A Practical Guide to Quantum Machine Learning and Quantum Optimization. 1st ed. Packt Publishing, 2023. Web. 30 May 2023."
   ]
  },
  {
   "cell_type": "markdown",
   "id": "17b8164c",
   "metadata": {},
   "source": [
    "# two qubit example"
   ]
  },
  {
   "cell_type": "code",
   "execution_count": 2,
   "id": "1e501c4e",
   "metadata": {},
   "outputs": [
    {
     "data": {
      "image/png": "[encoded data removed]",
      "text/plain": [
       "<Figure size 1039.79x200.667 with 1 Axes>"
      ]
     },
     "execution_count": 2,
     "metadata": {},
     "output_type": "execute_result"
    }
   ],
   "source": [
    "# define qaoa\n",
    "# take H1 = Z0Z1, H0 = X0X1\n",
    "from qiskit.opflow import Z\n",
    "\n",
    "H1 = Z^Z\n",
    "qaoa = QAOA(reps = 2)\n",
    "circuit = qaoa.construct_circuit([1,2,3,4], H1)[0] # use beta1=1, beta2=2, gamma1=3, gamma2=4\n",
    "circuit.draw('mpl')"
   ]
  },
  {
   "cell_type": "code",
   "execution_count": 3,
   "id": "3cff1779",
   "metadata": {},
   "outputs": [
    {
     "data": {
      "image/png": "[encoded data removed]",
      "text/plain": [
       "<Figure size 872.572x200.667 with 1 Axes>"
      ]
     },
     "execution_count": 3,
     "metadata": {},
     "output_type": "execute_result"
    }
   ],
   "source": [
    "circuit.decompose().decompose().draw('mpl')"
   ]
  },
  {
   "cell_type": "code",
   "execution_count": 4,
   "id": "d61a58bd",
   "metadata": {},
   "outputs": [
    {
     "name": "stdout",
     "output_type": "stream",
     "text": [
      "{   'aux_operator_eigenvalues': None,\n",
      "    'cost_function_evals': 29,\n",
      "    'eigenstate': {'01': 0.7132945131570829, '10': 0.7008644216251814},\n",
      "    'eigenvalue': (-0.9999999999999999+0j),\n",
      "    'optimal_circuit': None,\n",
      "    'optimal_parameters': {   ParameterVectorElement(γ[0]): 0.7970560548034816,\n",
      "                              ParameterVectorElement(β[0]): 7.465765403323452},\n",
      "    'optimal_point': array([7.4657654 , 0.79705605]),\n",
      "    'optimal_value': -0.9999999999999999,\n",
      "    'optimizer_evals': None,\n",
      "    'optimizer_result': None,\n",
      "    'optimizer_time': 0.08290290832519531}\n"
     ]
    }
   ],
   "source": [
    "# run on qasm simulator\n",
    "seed = 1234\n",
    "algorithm_globals.random_seed = seed\n",
    "quantum_instance = QuantumInstance(Aer.get_backend(\"qasm_simulator\"), \n",
    "                                   seed_simulator=seed, \n",
    "                                   seed_transpiler=seed, \n",
    "                                   shots=1024\n",
    "                                  )\n",
    "qaoa = QAOA(optimizer = COBYLA(), quantum_instance=quantum_instance)\n",
    "result = qaoa.compute_minimum_eigenvalue(H1)\n",
    "print(result)"
   ]
  },
  {
   "cell_type": "code",
   "execution_count": 5,
   "id": "5edd800e",
   "metadata": {},
   "outputs": [
    {
     "name": "stdout",
     "output_type": "stream",
     "text": [
      "{   'aux_operator_eigenvalues': None,\n",
      "    'cost_function_evals': 23,\n",
      "    'eigenstate': {   '00': 0.20009763241977652,\n",
      "                      '01': 0.6853660062331659,\n",
      "                      '10': 0.676040864149498,\n",
      "                      '11': 0.18221724671391565},\n",
      "    'eigenvalue': (-0.853515625+0j),\n",
      "    'optimal_circuit': None,\n",
      "    'optimal_parameters': {   ParameterVectorElement(β[0]): 7.454944276674637,\n",
      "                              ParameterVectorElement(γ[0]): 0.7753143666402692},\n",
      "    'optimal_point': array([7.45494428, 0.77531437]),\n",
      "    'optimal_value': -0.853515625,\n",
      "    'optimizer_evals': None,\n",
      "    'optimizer_result': None,\n",
      "    'optimizer_time': 6.005857706069946}\n"
     ]
    }
   ],
   "source": [
    "# run on fake device\n",
    "seed = 1234\n",
    "algorithm_globals.random_seed = seed\n",
    "quantum_instance = QuantumInstance(FakeMumbaiV2(), \n",
    "                                   seed_simulator=seed, \n",
    "                                   seed_transpiler=seed, \n",
    "                                   shots=1024\n",
    "                                  )\n",
    "qaoa = QAOA(optimizer = COBYLA(), quantum_instance=quantum_instance)\n",
    "result = qaoa.compute_minimum_eigenvalue(H1)\n",
    "print(result)\n",
    "#output means more less noise -> states \"00\", \"01\", \"10\", \"11\""
   ]
  },
  {
   "cell_type": "markdown",
   "id": "eca42cf4",
   "metadata": {},
   "source": [
    "# advanced example"
   ]
  },
  {
   "cell_type": "code",
   "execution_count": 6,
   "id": "00c002b0",
   "metadata": {},
   "outputs": [
    {
     "data": {
      "image/png": "[encoded data removed]",
      "text/plain": [
       "<Figure size 2043.33x535.111 with 1 Axes>"
      ]
     },
     "execution_count": 6,
     "metadata": {},
     "output_type": "execute_result"
    }
   ],
   "source": [
    "# define qaoa\n",
    "# take H1 = Z0Z1Z2Z3Z4Z5, H0 = X0X1X2X3X4X5 -> Eigenvalue should be -1/+1\n",
    "from qiskit.opflow import Z\n",
    "\n",
    "H1 = Z^Z^Z^Z^Z^Z\n",
    "qaoa = QAOA(reps = 2)\n",
    "circuit = qaoa.construct_circuit([1,2,3,4],H1)[0] # use beta, gamma,...\n",
    "circuit.draw('mpl')"
   ]
  },
  {
   "cell_type": "code",
   "execution_count": 7,
   "id": "b3fdb60e",
   "metadata": {},
   "outputs": [
    {
     "name": "stdout",
     "output_type": "stream",
     "text": [
      "{   'aux_operator_eigenvalues': None,\n",
      "    'cost_function_evals': 32,\n",
      "    'eigenstate': {   '000000': 0.05412658773652741,\n",
      "                      '000001': 0.1795175827043134,\n",
      "                      '000010': 0.1875,\n",
      "                      '000100': 0.1795175827043134,\n",
      "                      '000101': 0.05412658773652741,\n",
      "                      '000110': 0.05412658773652741,\n",
      "                      '000111': 0.19764235376052372,\n",
      "                      '001000': 0.1795175827043134,\n",
      "                      '001001': 0.04419417382415922,\n",
      "                      '001010': 0.03125,\n",
      "                      '001011': 0.15625,\n",
      "                      '001101': 0.17399263633843817,\n",
      "                      '001110': 0.16828640022295324,\n",
      "                      '001111': 0.03125,\n",
      "                      '010000': 0.14986973510352247,\n",
      "                      '010010': 0.03125,\n",
      "                      '010011': 0.1767766952966369,\n",
      "                      '010101': 0.17399263633843817,\n",
      "                      '010110': 0.18221724671391565,\n",
      "                      '010111': 0.05412658773652741,\n",
      "                      '011000': 0.03125,\n",
      "                      '011001': 0.184877493221863,\n",
      "                      '011010': 0.15934435979977452,\n",
      "                      '011011': 0.05412658773652741,\n",
      "                      '011100': 0.14657549249448218,\n",
      "                      '011111': 0.19008632907181935,\n",
      "                      '100000': 0.15309310892394862,\n",
      "                      '100010': 0.04419417382415922,\n",
      "                      '100011': 0.18221724671391565,\n",
      "                      '100100': 0.03125,\n",
      "                      '100101': 0.16535945694153692,\n",
      "                      '100110': 0.1875,\n",
      "                      '101001': 0.16828640022295324,\n",
      "                      '101010': 0.16535945694153692,\n",
      "                      '101011': 0.04419417382415922,\n",
      "                      '101100': 0.13258252147247765,\n",
      "                      '101101': 0.03125,\n",
      "                      '101110': 0.03125,\n",
      "                      '101111': 0.2049199538844375,\n",
      "                      '110000': 0.03125,\n",
      "                      '110001': 0.19008632907181935,\n",
      "                      '110010': 0.15625,\n",
      "                      '110100': 0.20009763241977652,\n",
      "                      '110101': 0.03125,\n",
      "                      '110111': 0.14986973510352247,\n",
      "                      '111000': 0.16535945694153692,\n",
      "                      '111001': 0.03125,\n",
      "                      '111010': 0.03125,\n",
      "                      '111011': 0.16237976320958225,\n",
      "                      '111100': 0.03125,\n",
      "                      '111101': 0.2049199538844375,\n",
      "                      '111110': 0.16237976320958225},\n",
      "    'eigenvalue': (-0.935546875+0j),\n",
      "    'optimal_circuit': None,\n",
      "    'optimal_parameters': {   ParameterVectorElement(β[0]): 6.9404579888958,\n",
      "                              ParameterVectorElement(γ[0]): -0.5878866717551708},\n",
      "    'optimal_point': array([ 6.94045799, -0.58788667]),\n",
      "    'optimal_value': -0.935546875,\n",
      "    'optimizer_evals': None,\n",
      "    'optimizer_result': None,\n",
      "    'optimizer_time': 0.22467255592346191}\n"
     ]
    }
   ],
   "source": [
    "# run on qasm simulator\n",
    "# run on qasm simulator\n",
    "seed = 1234\n",
    "algorithm_globals.random_seed = seed\n",
    "quantum_instance = QuantumInstance(Aer.get_backend(\"qasm_simulator\"), \n",
    "                                   seed_simulator=seed, \n",
    "                                   seed_transpiler=seed, \n",
    "                                   shots=1024\n",
    "                                  )\n",
    "qaoa = QAOA(optimizer = COBYLA(), quantum_instance=quantum_instance)\n",
    "result = qaoa.compute_minimum_eigenvalue(H1)\n",
    "print(result)"
   ]
  },
  {
   "cell_type": "code",
   "execution_count": 8,
   "id": "28f2902b",
   "metadata": {},
   "outputs": [
    {
     "name": "stdout",
     "output_type": "stream",
     "text": [
      "{   'aux_operator_eigenvalues': None,\n",
      "    'cost_function_evals': 31,\n",
      "    'eigenstate': {   '000000': 0.09375,\n",
      "                      '000001': 0.16535945694153692,\n",
      "                      '000010': 0.15625,\n",
      "                      '000011': 0.0625,\n",
      "                      '000100': 0.14657549249448218,\n",
      "                      '000101': 0.09375,\n",
      "                      '000110': 0.07654655446197431,\n",
      "                      '000111': 0.13975424859373686,\n",
      "                      '001000': 0.13258252147247765,\n",
      "                      '001001': 0.07654655446197431,\n",
      "                      '001010': 0.07654655446197431,\n",
      "                      '001011': 0.15934435979977452,\n",
      "                      '001100': 0.08267972847076846,\n",
      "                      '001101': 0.15625,\n",
      "                      '001110': 0.19008632907181935,\n",
      "                      '001111': 0.11267347735824966,\n",
      "                      '010000': 0.15625,\n",
      "                      '010001': 0.10364452469860624,\n",
      "                      '010010': 0.09882117688026186,\n",
      "                      '010011': 0.13621559198564606,\n",
      "                      '010100': 0.11267347735824966,\n",
      "                      '010101': 0.15309310892394862,\n",
      "                      '010110': 0.125,\n",
      "                      '010111': 0.0625,\n",
      "                      '011000': 0.07654655446197431,\n",
      "                      '011001': 0.14657549249448218,\n",
      "                      '011010': 0.13621559198564606,\n",
      "                      '011011': 0.07654655446197431,\n",
      "                      '011100': 0.14320549046737,\n",
      "                      '011101': 0.07654655446197431,\n",
      "                      '011110': 0.0625,\n",
      "                      '011111': 0.19008632907181935,\n",
      "                      '100000': 0.1711632992203644,\n",
      "                      '100001': 0.07654655446197431,\n",
      "                      '100010': 0.10364452469860624,\n",
      "                      '100011': 0.1875,\n",
      "                      '100100': 0.08838834764831845,\n",
      "                      '100101': 0.16237976320958225,\n",
      "                      '100110': 0.15934435979977452,\n",
      "                      '100111': 0.08838834764831845,\n",
      "                      '101000': 0.08267972847076846,\n",
      "                      '101001': 0.16237976320958225,\n",
      "                      '101010': 0.16828640022295324,\n",
      "                      '101011': 0.08838834764831845,\n",
      "                      '101100': 0.14320549046737,\n",
      "                      '101101': 0.08838834764831845,\n",
      "                      '101110': 0.0625,\n",
      "                      '101111': 0.13621559198564606,\n",
      "                      '110000': 0.06987712429686843,\n",
      "                      '110001': 0.14320549046737,\n",
      "                      '110010': 0.15625,\n",
      "                      '110011': 0.08267972847076846,\n",
      "                      '110100': 0.13975424859373686,\n",
      "                      '110101': 0.08267972847076846,\n",
      "                      '110110': 0.06987712429686843,\n",
      "                      '110111': 0.1875,\n",
      "                      '111000': 0.13621559198564606,\n",
      "                      '111001': 0.10825317547305482,\n",
      "                      '111010': 0.07654655446197431,\n",
      "                      '111011': 0.16237976320958225,\n",
      "                      '111100': 0.0625,\n",
      "                      '111101': 0.15625,\n",
      "                      '111110': 0.14657549249448218,\n",
      "                      '111111': 0.0625},\n",
      "    'eigenvalue': (-0.55078125+0j),\n",
      "    'optimal_circuit': None,\n",
      "    'optimal_parameters': {   ParameterVectorElement(γ[0]): -0.5449536558584825,\n",
      "                              ParameterVectorElement(β[0]): 6.933837364959549},\n",
      "    'optimal_point': array([ 6.93383736, -0.54495366]),\n",
      "    'optimal_value': -0.55078125,\n",
      "    'optimizer_evals': None,\n",
      "    'optimizer_result': None,\n",
      "    'optimizer_time': 9.713724136352539}\n"
     ]
    }
   ],
   "source": [
    "# run on fake device\n",
    "seed = 1234\n",
    "algorithm_globals.random_seed = seed\n",
    "quantum_instance = QuantumInstance(FakeMumbaiV2(), \n",
    "                                   seed_simulator=seed, \n",
    "                                   seed_transpiler=seed, \n",
    "                                   shots=1024\n",
    "                                  )\n",
    "qaoa = QAOA(optimizer = COBYLA(), quantum_instance=quantum_instance)\n",
    "result = qaoa.compute_minimum_eigenvalue(H1)\n",
    "print(result)"
   ]
  },
  {
   "cell_type": "markdown",
   "id": "bf19bd63-d166-41f7-87e3-f4df3776f5e2",
   "metadata": {
    "slideshow": {
     "slide_type": "-"
    }
   },
   "source": [
    "### Your solution\n",
    "\n",
    "Explain which paramateres can be changed in the code below, how to get different results."
   ]
  },
  {
   "cell_type": "code",
   "execution_count": null,
   "id": "7cdc5fe7-ae31-43e1-8c9f-3680c2182523",
   "metadata": {
    "slideshow": {
     "slide_type": "-"
    },
    "tags": []
   },
   "outputs": [],
   "source": [
    "\n",
    "# Your code here: Implementation of the good solution"
   ]
  },
  {
   "cell_type": "markdown",
   "id": "890eaf59-b8b9-45a6-9e8d-aadb27eb9c0f",
   "metadata": {
    "slideshow": {
     "slide_type": "-"
    }
   },
   "source": [
    "## Results\n",
    "\n",
    "Analyse both solutions the naive and yours, and show what is better.\n",
    "This can both be done theoretically (like Big O notation) or also some concrete results.\n",
    "If possible show below some graphs to compare the 2 solutions helping to explain what makes your solution so good."
   ]
  },
  {
   "cell_type": "code",
   "execution_count": null,
   "id": "b2541952-c14f-4546-aa4b-c5141add1f68",
   "metadata": {
    "slideshow": {
     "slide_type": "-"
    },
    "tags": []
   },
   "outputs": [],
   "source": [
    "\n",
    "# Your code here: Use code to show graphs"
   ]
  }
 ],
 "metadata": {
  "kernelspec": {
   "display_name": "Python 3 (ipykernel)",
   "language": "python",
   "name": "python3"
  },
  "language_info": {
   "codemirror_mode": {
    "name": "ipython",
    "version": 3
   },
   "file_extension": ".py",
   "mimetype": "text/x-python",
   "name": "python",
   "nbconvert_exporter": "python",
   "pygments_lexer": "ipython3",
   "version": "3.10.9"
  },
  "widgets": {
   "application/vnd.jupyter.widget-state+json": {
    "state": {},
    "version_major": 2,
    "version_minor": 0
   }
  }
 },
 "nbformat": 4,
 "nbformat_minor": 5
}
